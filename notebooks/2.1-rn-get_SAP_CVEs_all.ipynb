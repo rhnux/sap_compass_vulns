{
 "cells": [
  {
   "cell_type": "markdown",
   "id": "542b7968-6d00-416f-a6d2-af94c1ebde85",
   "metadata": {},
   "source": [
    "## Get SAP Security Notes "
   ]
  },
  {
   "cell_type": "code",
   "execution_count": 1,
   "id": "c415703c-7100-4102-9c27-464c1abed099",
   "metadata": {},
   "outputs": [],
   "source": [
    "import pandas as pd\n",
    "import numpy as np\n",
    "import tabula\n",
    "import re\n",
    "pd.set_option('display.max_rows', 500)"
   ]
  },
  {
   "cell_type": "code",
   "execution_count": 2,
   "id": "6b730361-8a55-41e2-a3ca-97a8e7e3e14d",
   "metadata": {},
   "outputs": [
    {
     "name": "stderr",
     "output_type": "stream",
     "text": [
      "Dec 10, 2024 10:19:11 PM org.apache.pdfbox.pdmodel.font.PDTrueTypeFont <init>\n",
      "WARNING: Using fallback font 'LiberationSans' for 'TimesNewRomanPSMT'\n",
      "Dec 10, 2024 10:19:12 PM org.apache.pdfbox.pdmodel.font.PDTrueTypeFont <init>\n",
      "WARNING: Using fallback font 'LiberationSans' for 'TimesNewRomanPSMT'\n",
      "Dec 10, 2024 10:19:12 PM org.apache.pdfbox.pdmodel.font.PDTrueTypeFont <init>\n",
      "WARNING: Using fallback font 'LiberationSans' for 'TimesNewRomanPSMT'\n",
      "Dec 10, 2024 10:19:12 PM org.apache.pdfbox.pdmodel.font.PDTrueTypeFont <init>\n",
      "WARNING: Using fallback font 'LiberationSans-Bold' for 'TimesNewRomanPS-BoldMT'\n",
      "Dec 10, 2024 10:19:13 PM org.apache.pdfbox.pdmodel.font.PDTrueTypeFont <init>\n",
      "WARNING: Using fallback font 'LiberationSans-Bold' for 'TimesNewRomanPS-BoldMT'\n",
      "Dec 10, 2024 10:19:13 PM org.apache.pdfbox.pdmodel.font.PDTrueTypeFont <init>\n",
      "WARNING: Using fallback font 'LiberationSans' for 'TimesNewRomanPSMT'\n"
     ]
    }
   ],
   "source": [
    "dft_2021 = tabula.read_pdf('2021 Blog.pdf', pages='all', stream=True, pandas_options={'header': None})\n",
    "dft_2022 = tabula.read_pdf('2022 12 Patch Day Blog V9.0.pdf', pages='all', stream=True, pandas_options={'header': None})\n",
    "dft_2023 = tabula.read_pdf('2023 12 Patch Day Blog V2.0 (1).pdf', pages='all', stream=True, pandas_options={'header': None})"
   ]
  },
  {
   "cell_type": "code",
   "execution_count": 3,
   "id": "4fdf22c3-d0c1-4d0c-a8f9-73e7f08a9f0b",
   "metadata": {},
   "outputs": [],
   "source": [
    "def newHeader(xdf):\n",
    "    data_list = []\n",
    "    header = xdf[0].iloc[0]\n",
    "    xdf[0].columns = header\n",
    "    xdf[0] = xdf[0].drop([0])\n",
    "    xdf[0][\"cve_id\"] = xdf[0][\"Title\"].str.extract(r'(CVE-....-\\d+)')\n",
    "    for i in range(0, len(xdf)):\n",
    "        if i == 0:\n",
    "            data = xdf[i].iloc[1:]\n",
    "        else:\n",
    "            data = xdf[i]\n",
    "        if data.shape[1] == header.shape[0]:\n",
    "            data.columns = header\n",
    "            xdf[i][\"cve_id\"] = xdf[i][\"Title\"].str.extract(r'(CVE-....-\\d+)')\n",
    "            data_list.append(data)\n",
    "    return data_list"
   ]
  },
  {
   "cell_type": "code",
   "execution_count": 4,
   "id": "dcdabb4d-1ba3-4eeb-bc3d-42c1b3557bfd",
   "metadata": {},
   "outputs": [],
   "source": [
    "dftt_2021 = newHeader(dft_2021)\n",
    "dftt_2022 = newHeader(dft_2022)\n",
    "dftt_2023 = newHeader(dft_2023)"
   ]
  },
  {
   "cell_type": "code",
   "execution_count": 5,
   "id": "404125ee-bc9c-4dac-89c7-a8b4bd862688",
   "metadata": {},
   "outputs": [],
   "source": [
    "sap_2021 = pd.concat(dftt_2021)\n",
    "sap_2022 = pd.concat(dftt_2022)\n",
    "sap_2023 = pd.concat(dftt_2023)"
   ]
  },
  {
   "cell_type": "code",
   "execution_count": 6,
   "id": "27eeba29-83c9-4497-91ad-903237bdb8d1",
   "metadata": {},
   "outputs": [],
   "source": [
    "# Pandas merge rows in a column 'Title'\n",
    "# https://stackoverflow.com/questions/64141451/pandas-merge-rows-in-a-column\n",
    "def mergeTitle(ydf):\n",
    "    ydf['Title'] = ydf['Title'].astype(str)\n",
    "    blocks = ydf['CVSS'].notna().cumsum()\n",
    "    agg_dict = {col:' '.join if col=='Title' else 'first' for col in ydf}\n",
    "    df_t = ydf.groupby(blocks).agg(agg_dict).reset_index(drop=True)\n",
    "    df_t.dropna(inplace=True)\n",
    "    df_t = df_t[(df_t['Note#'] != 'Note#')]\n",
    "    df_t['Note#'] = df_t['Note#'].astype(int)\n",
    "    df_t.reset_index(drop=True, inplace=True)\n",
    "    return df_t"
   ]
  },
  {
   "cell_type": "code",
   "execution_count": 7,
   "id": "705d2610-e21f-4898-9e7e-c90bc42fc204",
   "metadata": {},
   "outputs": [],
   "source": [
    "sap_2021_notes = mergeTitle(sap_2021)\n",
    "sap_2022_notes = mergeTitle(sap_2022)\n",
    "sap_2023_notes = mergeTitle(sap_2023)"
   ]
  },
  {
   "cell_type": "code",
   "execution_count": null,
   "id": "8a79ce1d-e407-4205-accd-e9a35b286068",
   "metadata": {},
   "outputs": [],
   "source": [
    "sap_2023_notes"
   ]
  },
  {
   "cell_type": "code",
   "execution_count": null,
   "id": "27aa758e-839b-4373-aefb-0974bfc897a8",
   "metadata": {},
   "outputs": [],
   "source": [
    "# SAP Notes 2024\n",
    "#sap_2024_notes = pd.read_csv('sap_notes_2024.csv')"
   ]
  },
  {
   "cell_type": "code",
   "execution_count": 8,
   "id": "55fefcfb-13a1-411c-a400-cf9c7a2abe73",
   "metadata": {},
   "outputs": [],
   "source": [
    "sap_202401 = pd.read_html('https://support.sap.com/en/my-support/knowledge-base/security-notes-news/january-2024.html',\n",
    "                 flavor='html5lib')\n",
    "sap_202402 = pd.read_html('https://support.sap.com/en/my-support/knowledge-base/security-notes-news/february-2024.html',\n",
    "                 flavor='html5lib')\n",
    "sap_202403 = pd.read_html('https://support.sap.com/en/my-support/knowledge-base/security-notes-news/march-2024.html',\n",
    "                 flavor='html5lib')\n",
    "sap_202404 = pd.read_html('https://support.sap.com/en/my-support/knowledge-base/security-notes-news/april-2024.html',\n",
    "                 flavor='html5lib')\n",
    "sap_202405 = pd.read_html('https://support.sap.com/en/my-support/knowledge-base/security-notes-news/may-2024.html',\n",
    "                 flavor='html5lib')\n",
    "sap_202406 = pd.read_html('https://support.sap.com/en/my-support/knowledge-base/security-notes-news/june-2024.html',\n",
    "                 flavor='html5lib')\n",
    "sap_202407 = pd.read_html('https://support.sap.com/en/my-support/knowledge-base/security-notes-news/july-2024.html',\n",
    "                 flavor='html5lib')\n",
    "sap_202408 = pd.read_html('https://support.sap.com/en/my-support/knowledge-base/security-notes-news/august-2024.html',\n",
    "                 flavor='html5lib')\n",
    "sap_202409 = pd.read_html('https://support.sap.com/en/my-support/knowledge-base/security-notes-news/september-2024.html',\n",
    "                 flavor='html5lib')\n",
    "sap_202410 = pd.read_html('https://support.sap.com/en/my-support/knowledge-base/security-notes-news/october-2024.html',\n",
    "                         flavor='html5lib')\n",
    "sap_202411 = pd.read_html('https://support.sap.com/en/my-support/knowledge-base/security-notes-news/november-2024.html',\n",
    "                         flavor='html5lib')\n",
    "sap_202412 = pd.read_html('https://support.sap.com/en/my-support/knowledge-base/security-notes-news/december-2024.html',\n",
    "                         flavor='html5lib')"
   ]
  },
  {
   "cell_type": "code",
   "execution_count": 9,
   "id": "686a5c3d-9f02-4e66-8871-2aad4791445b",
   "metadata": {},
   "outputs": [
    {
     "data": {
      "text/plain": [
       "[      Note#                                              Title  Priority  CVSS\n",
       " 0   3536965  [CVE-2024-47578] Multiple vulnerabilities in S...  Hot News   9.1\n",
       " 1   3520281  Update to Security Note released on November 2...      High   8.8\n",
       " 2   3469791  [CVE-2024-54198] Information Disclosure vulner...      High   8.5\n",
       " 3   3504390  Update to Security Note released on November 2...      High   7.5\n",
       " 4   3542543  [CVE-2024-54197] Server-Side Request Forgery i...      High   7.2\n",
       " 5   3351041  [CVE-2024-47582] XML Entity Expansion Vulnerab...    Medium   5.3\n",
       " 6   3524933  [CVE-2024-32732] Information Disclosure vulner...    Medium   5.3\n",
       " 7   3536361  [CVE-2024-47585] Missing Authorization check i...    Medium   4.3\n",
       " 8   3515653  Update 1 to Security Note 3433545: [CVE-2024-4...    Medium   4.3\n",
       " 9   3433545  Update to Security Note released on August 202...    Medium   4.3\n",
       " 10  3522332  [CVE-2024-47581] Missing Authorization check i...    Medium   4.3\n",
       " 11  3504847  [CVE-2024-47576] DLL Hijacking vulnerability i...       Low   3.3\n",
       " 12  3535451  [CVE-2024-47577] Information Disclosure vulner...       Low   2.7]"
      ]
     },
     "execution_count": 9,
     "metadata": {},
     "output_type": "execute_result"
    }
   ],
   "source": [
    "sap_202412"
   ]
  },
  {
   "cell_type": "code",
   "execution_count": 10,
   "id": "a5607005-dea9-4370-ba0c-11662ea49320",
   "metadata": {},
   "outputs": [],
   "source": [
    "def etData1(x):\n",
    "    _df = pd.DataFrame(x[0], columns=['Note#', 'Title', 'Severity', 'CVSS'])\n",
    "    _df.rename(columns={'Severity': 'Priority'}, inplace=True)\n",
    "    _df[\"cve_id\"] = _df[\"Title\"].str.extract(r'(CVE-....-\\d+)')\n",
    "    return _df\n",
    "\n",
    "def etData2(x):\n",
    "    _df = pd.DataFrame(x[0], columns=['Note#', 'Title', 'Priority', 'CVSS'])\n",
    "    _df[\"cve_id\"] = _df[\"Title\"].str.extract(r'(CVE-....-\\d+)')\n",
    "    return _df"
   ]
  },
  {
   "cell_type": "code",
   "execution_count": 11,
   "id": "346559e7-65e2-42c2-b4ba-e339db8f3871",
   "metadata": {},
   "outputs": [],
   "source": [
    "sap_202401_df = etData1(sap_202401)\n",
    "sap_202402_df = etData1(sap_202402)\n",
    "sap_202403_df = etData1(sap_202403)\n",
    "sap_202404_df = etData1(sap_202404)\n",
    "sap_202405_df = etData1(sap_202405)\n",
    "sap_202406_df = etData1(sap_202406)\n",
    "sap_202407_df = etData2(sap_202407)\n",
    "sap_202408_df = etData2(sap_202408)\n",
    "sap_202409_df = etData2(sap_202409)\n",
    "sap_202410_df = etData2(sap_202410)\n",
    "sap_202411_df = etData2(sap_202411)\n",
    "sap_202412_df = etData2(sap_202412)"
   ]
  },
  {
   "cell_type": "code",
   "execution_count": 12,
   "id": "a63f9e26-1130-4f32-86d4-1768daf65467",
   "metadata": {},
   "outputs": [],
   "source": [
    "sap_2024_ls = [sap_202401_df,sap_202402_df,sap_202403_df,sap_202404_df,sap_202405_df,sap_202406_df,sap_202407_df,sap_202408_df,sap_202409_df,sap_202410_df,sap_202411_df,sap_202412_df]\n",
    "sap_2024_df = pd.concat(sap_2024_ls)"
   ]
  },
  {
   "cell_type": "code",
   "execution_count": 13,
   "id": "5e211b90-c0d8-4189-b33c-2038e8c2907d",
   "metadata": {},
   "outputs": [],
   "source": [
    "sap_2024_notes = sap_2024_df.dropna()\n",
    "#sap_2024_notes = pd.read_csv('sap_notes_2024.csv')"
   ]
  },
  {
   "cell_type": "code",
   "execution_count": 14,
   "id": "92d4d04c-1d7a-4e69-b3ce-4aa70a2a6a02",
   "metadata": {},
   "outputs": [],
   "source": [
    "sap_all_ls = [sap_2021_notes, sap_2022_notes, sap_2023_notes, sap_2024_notes]\n",
    "sap_all_notes = pd.concat(sap_all_ls)"
   ]
  },
  {
   "cell_type": "code",
   "execution_count": 15,
   "id": "cd77d504-f8fe-43f4-a3fc-3b1da11a08a6",
   "metadata": {},
   "outputs": [
    {
     "name": "stdout",
     "output_type": "stream",
     "text": [
      "<class 'pandas.core.frame.DataFrame'>\n",
      "Index: 679 entries, 0 to 12\n",
      "Data columns (total 5 columns):\n",
      " #   Column    Non-Null Count  Dtype \n",
      "---  ------    --------------  ----- \n",
      " 0   Note#     679 non-null    int64 \n",
      " 1   Title     679 non-null    object\n",
      " 2   Priority  679 non-null    object\n",
      " 3   CVSS      679 non-null    object\n",
      " 4   cve_id    679 non-null    object\n",
      "dtypes: int64(1), object(4)\n",
      "memory usage: 31.8+ KB\n"
     ]
    }
   ],
   "source": [
    "sap_all_notes.info()"
   ]
  },
  {
   "cell_type": "code",
   "execution_count": null,
   "id": "df8ba471-0eb4-4e37-a7c9-9faf308c773b",
   "metadata": {},
   "outputs": [],
   "source": [
    "l_sap_cve = sap_all_notes.cve_id.to_list()"
   ]
  },
  {
   "cell_type": "code",
   "execution_count": null,
   "id": "af147f11-e3aa-468b-bca8-701f4b59891e",
   "metadata": {},
   "outputs": [],
   "source": [
    "#l_sap_cve\n",
    "clean_sap_cve = [x for x in l_sap_cve if str(x) != 'nan']"
   ]
  },
  {
   "cell_type": "code",
   "execution_count": null,
   "id": "73a0ca27-a49a-4db8-9e87-2227e644b48b",
   "metadata": {},
   "outputs": [],
   "source": [
    "string_list = [str(element) for element in clean_sap_cve]\n",
    "delimiter = \" \"\n",
    "result_string_cve = delimiter.join(string_list)"
   ]
  },
  {
   "cell_type": "code",
   "execution_count": null,
   "id": "d2ba38fa-fc73-4ee8-b178-6a81f4063484",
   "metadata": {},
   "outputs": [],
   "source": [
    "result_string_cve"
   ]
  },
  {
   "cell_type": "code",
   "execution_count": null,
   "id": "e001c643-0db1-4f7e-8e5d-6e92e20c5de9",
   "metadata": {},
   "outputs": [],
   "source": [
    "n_sap_all_notes = [\"{}\\n\".format(i) for i in sap_all_notes['cve_id']]\n",
    "with open(r'sap_all_cve_ids.txt', 'w') as fp:\n",
    "    fp.writelines(n_sap_all_notes)"
   ]
  },
  {
   "cell_type": "code",
   "execution_count": null,
   "id": "d353f320-11f7-47d4-9097-0f4d159d0a2d",
   "metadata": {},
   "outputs": [],
   "source": [
    "# end extract cve_ids"
   ]
  },
  {
   "cell_type": "code",
   "execution_count": 16,
   "id": "0ee96f7c-64ef-461f-9189-1cb9fcb9e36b",
   "metadata": {},
   "outputs": [],
   "source": [
    "### Crear DataFrame de output Sploitscan\n",
    "def dataframeSplotscan(file_json):\n",
    "    data = pd.DataFrame(columns = ['cve_id', 'dateUpdated', 'descriptions', 'product_l', 'epss_l', 'percentile', 'priority_l', 'cweId'])\n",
    "    dict_list = []\n",
    "    sap_sp = pd.read_json(f'{file_json}', typ='series')\n",
    "    for i in sap_sp:\n",
    "        if 'problemTypes' in i['CVE Data']['containers']['cna'].keys():            \n",
    "            if 'cweId' in i['CVE Data']['containers']['cna']['problemTypes'][0]['descriptions'][0].keys():\n",
    "                cweId = i['CVE Data']['containers']['cna']['problemTypes'][0]['descriptions'][0]['cweId']\n",
    "            else:\n",
    "                cweId = i['CVE Data']['containers']['cna']['problemTypes'][0]['descriptions'][0]['description']\n",
    "        else:\n",
    "            cweId = None\n",
    "        if len(i['EPSS Data']['data']) == 1:\n",
    "            epss_l = i['EPSS Data']['data'][0]['epss']\n",
    "            percentile = i['EPSS Data']['data'][0]['percentile']\n",
    "        else:\n",
    "            epss_l = None\n",
    "            percentile = None\n",
    "        if 'datePublished' in i['CVE Data']['cveMetadata']:\n",
    "            datePublished = i['CVE Data']['cveMetadata']['datePublished']\n",
    "        else:\n",
    "            datePublished = None\n",
    "        if 'references' in i['CVE Data']['containers']['cna'].keys():            \n",
    "            note_id = re.findall('[2,3]{1}[0-9]{6}', str(i['CVE Data']['containers']['cna']['references'][0]['url']))\n",
    "        else:\n",
    "            note_id = None\n",
    "        row_list = {'cve_id': i['CVE Data']['cveMetadata']['cveId'],\n",
    "                    #'datePublished': i['CVE Data']['cveMetadata']['datePublished'],\n",
    "                    'datePublished': datePublished,\n",
    "                    'dateUpdated': i['CVE Data']['cveMetadata']['dateUpdated'],\n",
    "                    'descriptions': i['CVE Data']['containers']['cna']['descriptions'][0]['value'],\n",
    "                    'product_l': i['CVE Data']['containers']['cna']['affected'][0]['product'],\n",
    "                    #'epss_l': i['EPSS Data']['data'][0]['epss'],\n",
    "                    #'benchmark': i['VulnCheck Data']['_benchmark'],\n",
    "                    'epss_l': epss_l,\n",
    "                    'percentile': percentile,\n",
    "                    'priority_l': i['Priority']['Priority'],\n",
    "                    'cweId': cweId,\n",
    "                    'note_id': str(note_id)}\n",
    "        dict_list.append(row_list)\n",
    "\n",
    "    data = pd.DataFrame.from_dict(dict_list)\n",
    "    return(data)"
   ]
  },
  {
   "cell_type": "code",
   "execution_count": 17,
   "id": "d353eb05-3c15-4b34-a9ff-c03870745844",
   "metadata": {},
   "outputs": [],
   "source": [
    "#especial 2021 sap notes\n",
    "#sp_sap_cve_2021 = dataframeSplotscan('sap_history_data_curate/sp_2021_last.json')"
   ]
  },
  {
   "cell_type": "code",
   "execution_count": 18,
   "id": "ce8d1d81-4e0e-42c2-807f-179dff563d88",
   "metadata": {},
   "outputs": [],
   "source": [
    "#sp_sap_cve = dataframeSplotscan('sp_sap_cve_202410.json')\n",
    "sp_sap_cve_2024 = dataframeSplotscan('../sap_all_cve_ids_20241201.json')\n",
    "sp_sap_cve_2024.drop_duplicates(subset=['cve_id'], inplace=True)\n",
    "sp_sap_cve_122024 = dataframeSplotscan('../sp_cve_ids_202412.json')\n",
    "sp_sap_cve_122024.drop_duplicates(subset=['cve_id'], inplace=True)"
   ]
  },
  {
   "cell_type": "code",
   "execution_count": 19,
   "id": "1926bbd5-704a-4601-bbb3-ac1deef54919",
   "metadata": {},
   "outputs": [],
   "source": [
    "sp_sap_cve_ls = [sp_sap_cve_2024,sp_sap_cve_122024]\n",
    "sp_sap_cve = pd.concat(sp_sap_cve_ls)"
   ]
  },
  {
   "cell_type": "code",
   "execution_count": 21,
   "id": "fdcda4a4-9019-4304-8832-32a017890d72",
   "metadata": {},
   "outputs": [
    {
     "name": "stdout",
     "output_type": "stream",
     "text": [
      "<class 'pandas.core.frame.DataFrame'>\n",
      "Index: 676 entries, 0 to 160\n",
      "Data columns (total 10 columns):\n",
      " #   Column         Non-Null Count  Dtype \n",
      "---  ------         --------------  ----- \n",
      " 0   cve_id         676 non-null    object\n",
      " 1   datePublished  674 non-null    object\n",
      " 2   dateUpdated    676 non-null    object\n",
      " 3   descriptions   676 non-null    object\n",
      " 4   product_l      676 non-null    object\n",
      " 5   epss_l         674 non-null    object\n",
      " 6   percentile     674 non-null    object\n",
      " 7   priority_l     131 non-null    object\n",
      " 8   cweId          674 non-null    object\n",
      " 9   note_id        676 non-null    object\n",
      "dtypes: object(10)\n",
      "memory usage: 58.1+ KB\n"
     ]
    }
   ],
   "source": [
    "sp_sap_cve.info()"
   ]
  },
  {
   "cell_type": "code",
   "execution_count": 22,
   "id": "d0114ae5-17c4-4055-ad41-fae482328b23",
   "metadata": {},
   "outputs": [],
   "source": [
    "cp_sap_cve = pd.read_csv('../sap_all_cve_prior_202412.csv')"
   ]
  },
  {
   "cell_type": "code",
   "execution_count": 23,
   "id": "dc9537c3-ecf3-43de-a34c-c8e88e42fe28",
   "metadata": {},
   "outputs": [],
   "source": [
    "cp_sap_cve.drop_duplicates(subset=['cve_id'], inplace=True)"
   ]
  },
  {
   "cell_type": "code",
   "execution_count": 24,
   "id": "4ad7eb3f-5f6c-4ff9-833f-34e52a43ce19",
   "metadata": {},
   "outputs": [
    {
     "name": "stderr",
     "output_type": "stream",
     "text": [
      "/tmp/ipykernel_9897/3610684523.py:5: SettingWithCopyWarning: \n",
      "A value is trying to be set on a copy of a slice from a DataFrame.\n",
      "Try using .loc[row_indexer,col_indexer] = value instead\n",
      "\n",
      "See the caveats in the documentation: https://pandas.pydata.org/pandas-docs/stable/user_guide/indexing.html#returning-a-view-versus-a-copy\n",
      "  sap_2024_notes['sap_note_year'] = '2024'\n"
     ]
    }
   ],
   "source": [
    "#sap_cve_2023['sap_note_year'] = '2023'\n",
    "sap_2021_notes['sap_note_year'] = '2021'\n",
    "sap_2022_notes['sap_note_year'] = '2022'\n",
    "sap_2023_notes['sap_note_year'] = '2023'\n",
    "sap_2024_notes['sap_note_year'] = '2024'"
   ]
  },
  {
   "cell_type": "code",
   "execution_count": 25,
   "id": "b62067dd-f375-47f3-919f-a98d20b496ce",
   "metadata": {},
   "outputs": [],
   "source": [
    "sap_notes = pd.concat([sap_2021_notes,sap_2022_notes,sap_2023_notes,sap_2024_notes])"
   ]
  },
  {
   "cell_type": "code",
   "execution_count": 26,
   "id": "8148fa20-4dbf-4b1b-ba72-e032b972674e",
   "metadata": {},
   "outputs": [],
   "source": [
    "sap_cve_df = sap_notes.merge(sp_sap_cve, on=['cve_id'])\n",
    "sap_cve_df = sap_cve_df.merge(cp_sap_cve, on=['cve_id'])\n",
    "#sap_cve_2023['sap_note_year'] = '2023'"
   ]
  },
  {
   "cell_type": "code",
   "execution_count": 27,
   "id": "560e2524-cb33-44db-a576-3e9cfa892215",
   "metadata": {},
   "outputs": [],
   "source": [
    "sap_cve_df.loc[(sap_cve_df['Priority'] == 'Hot') | (sap_cve_df['Priority'] == 'HotNews') | (sap_cve_df['Priority'] == 'Very High'), 'Priority'] = 'Hot News'\n",
    "#sap_cve_df.loc[(sap_cve_df['Priority'] == 'Hot') | (sap_cve_df['Priority'] == 'HotNews'), 'Priority'] = 'Hot News'\n",
    "\n",
    "sap_cve_df.loc[(sap_cve_df['cweId'] == 'Cross-Site Scripting') | (sap_cve_df['cweId'] == 'Cross Site Scripting') | (sap_cve_df['cweId'] == \"Cross-Site Scripting (XSS)\"), 'cweId'] = \"CWE-79\"\n",
    "\n",
    "sap_cve_df.loc[(sap_cve_df['cweId'] == 'Missing Authorization check') | (sap_cve_df['cweId'] == 'Missing Authorization') | (sap_cve_df['cweId'] == 'Missing Authorization Check'), 'cweId'] = \"CWE-862\"\n",
    "\n",
    "sap_cve_df.loc[(sap_cve_df['cve_id'] == 'CVE-2021-21484'),'cweId'] = \"CWE-863\"\n",
    "\n",
    "sap_cve_df.loc[(sap_cve_df['cve_id'] == 'CVE-2023-30533'),'cweId'] = \"CWE-1321\"\n",
    "\n",
    "sap_cve_df.loc[(sap_cve_df['cve_id'] == 'CVE-2022-35737'),'cweId'] = \"CWE-129\"\n",
    "\n",
    "sap_cve_df.loc[(sap_cve_df['cve_id'] == 'CVE-2023-44487'),'cweId'] = \"CWE-400\"\n",
    "\n",
    "sap_cve_df.loc[(sap_cve_df['cve_id'] == 'CVE-2020-6308'),'cweId'] = \"CWE-918\"\n",
    "\n",
    "sap_cve_df.loc[(sap_cve_df['cve_id'] == 'CVE-2020-6207'),'cweId'] = \"CWE-306\"\n",
    "\n",
    "sap_cve_df.loc[(sap_cve_df['cve_id'] == 'CVE-2021-33690'),'cweId'] = \"CWE-918\"\n",
    "\n",
    "sap_cve_df.loc[(sap_cve_df['cve_id'] == 'CVE-2021-38163'),'cweId'] = \"CWE-78\"\n",
    "\n",
    "sap_cve_df.loc[(sap_cve_df['cve_id'] == 'CVE-2021-44235'),'cweId'] = \"CWE-78\"\n",
    "sap_cve_df.loc[(sap_cve_df['cve_id'] == 'CVE-2021-37531'),'cweId'] = \"CWE-78\"\n",
    "\n",
    "sap_cve_df.loc[(sap_cve_df['cve_id'] == 'CVE-2021-33663'),'cweId'] = \"CWE-74\"\n",
    "\n",
    "sap_cve_df.loc[(sap_cve_df['cve_id'] == 'CVE-2024-33007'),'cweId'] = \"CWE-79\"\n",
    "\n",
    "sap_cve_df.loc[(sap_cve_df['cve_id'] == 'CVE-2021-27608'),'cweId'] = \"CWE-428\"\n",
    "\n",
    "sap_cve_df.loc[(sap_cve_df['cve_id'] == 'CVE-2021-27635'),'cweId'] = \"CWE-112\"\n",
    "\n",
    "sap_cve_df.loc[(sap_cve_df['cve_id'] == 'CVE-2021-27635'),'cweId'] = \"CWE-112\"\n",
    "sap_cve_df.loc[(sap_cve_df['cve_id'] == 'CVE-2021-27617'),'cweId'] = \"CWE-112\"\n",
    "\n",
    "sap_cve_df.loc[(sap_cve_df['cve_id'] == 'CVE-2021-40499'),'cweId'] = \"CWE-94\"\n",
    "sap_cve_df.loc[(sap_cve_df['cve_id'] == 'CVE-2021-27611'),'cweId'] = \"CWE-94\"\n",
    "sap_cve_df.loc[(sap_cve_df['cve_id'] == 'CVE-2021-21466'),'cweId'] = \"CWE-94\"\n",
    "sap_cve_df.loc[(sap_cve_df['cve_id'] == 'CVE-2021-27602'),'cweId'] = \"CWE-94\"\n",
    "sap_cve_df.loc[(sap_cve_df['cve_id'] == 'CVE-2021-44231'),'cweId'] = \"CWE-94\"\n",
    "sap_cve_df.loc[(sap_cve_df['cve_id'] == 'CVE-2021-21480'),'cweId'] = \"CWE-94\"\n",
    "\n",
    "sap_cve_df.loc[(sap_cve_df['cve_id'] == 'CVE-2020-10683'),'cweId'] = \"CWE-611\"\n",
    "\n",
    "sap_cve_df.loc[(sap_cve_df['cve_id'] == 'CVE-2021-21444'),'cweId'] = \"CWE-1021\"\n",
    "\n",
    "sap_cve_df.loc[(sap_cve_df['cve_id'] == 'CVE-2019-17495'),'cweId'] = \"CWE-352\"\n",
    "\n",
    "sap_cve_df.loc[(sap_cve_df['cve_id'] == 'CVE-2021-44151'),'cweId'] = \"CWE-330\"\n",
    "\n",
    "sap_cve_df.loc[(sap_cve_df['cve_id'] == 'CVE-2013-3587'),'cweId'] = 'CWE-200'\n",
    "sap_cve_df.loc[(sap_cve_df['cve_id'] == 'CVE-2019-0388'),'cweId'] = 'CWE-290'\n",
    "sap_cve_df.loc[(sap_cve_df['cve_id'] == 'CVE-2020-26816'),'cweId'] = 'CWE-312'\n",
    "sap_cve_df.loc[(sap_cve_df['cve_id'] == 'CVE-2020-6215'),'cweId'] = 'CWE-601'\n",
    "sap_cve_df.loc[(sap_cve_df['cve_id'] == 'CVE-2020-6224'),'cweId'] = 'CWE-532'\n",
    "sap_cve_df.loc[(sap_cve_df['cve_id'] == 'CVE-2021-21445'),'cweId'] = 'CWE-444'\n",
    "sap_cve_df.loc[(sap_cve_df['cve_id'] == 'CVE-2021-21449'),'cweId'] = 'CWE-119'\n",
    "sap_cve_df.loc[(sap_cve_df['cve_id'] == 'CVE-2021-21465'),'cweId'] = 'CWE-89'\n",
    "sap_cve_df.loc[(sap_cve_df['cve_id'] == 'CVE-2021-21469'),'cweId'] = 'CWE-200'\n",
    "sap_cve_df.loc[(sap_cve_df['cve_id'] == 'CVE-2021-21470'),'cweId'] = 'CWE-611'\n",
    "sap_cve_df.loc[(sap_cve_df['cve_id'] == 'CVE-2021-21472'),'cweId'] = 'CWE-306'\n",
    "sap_cve_df.loc[(sap_cve_df['cve_id'] == 'CVE-2021-21474'),'cweId'] = 'CWE-326'\n",
    "sap_cve_df.loc[(sap_cve_df['cve_id'] == 'CVE-2021-21475'),'cweId'] = 'CWE-22'\n",
    "sap_cve_df.loc[(sap_cve_df['cve_id'] == 'CVE-2021-21476'),'cweId'] = 'CWE-601'\n",
    "sap_cve_df.loc[(sap_cve_df['cve_id'] == 'CVE-2021-21477'),'cweId'] = 'CWE-94'\n",
    "sap_cve_df.loc[(sap_cve_df['cve_id'] == 'CVE-2021-21478'),'cweId'] = 'CWE-601'\n",
    "sap_cve_df.loc[(sap_cve_df['cve_id'] == 'CVE-2021-21488'),'cweId'] = 'CWE-502'\n",
    "sap_cve_df.loc[(sap_cve_df['cve_id'] == 'CVE-2021-21491'),'cweId'] = 'CWE-601'\n",
    "sap_cve_df.loc[(sap_cve_df['cve_id'] == 'CVE-2021-27610'),'cweId'] = 'CWE-287'\n",
    "sap_cve_df.loc[(sap_cve_df['cve_id'] == 'CVE-2021-27612'),'cweId'] = 'CWE-601'\n",
    "sap_cve_df.loc[(sap_cve_df['cve_id'] == 'CVE-2021-27638'),'cweId'] = 'CWE-20'\n",
    "sap_cve_df.loc[(sap_cve_df['cve_id'] == 'CVE-2021-33672'),'cweId'] = 'CWE-116'\n",
    "sap_cve_df.loc[(sap_cve_df['cve_id'] == 'CVE-2021-33676'),'cweId'] = 'CWE-862'\n",
    "sap_cve_df.loc[(sap_cve_df['cve_id'] == 'CVE-2021-33685'),'cweId'] = 'CWE-22'\n",
    "sap_cve_df.loc[(sap_cve_df['cve_id'] == 'CVE-2021-33687'),'cweId'] = 'CWE-200'\n",
    "sap_cve_df.loc[(sap_cve_df['cve_id'] == 'CVE-2021-33688'),'cweId'] = 'CWE-89'\n",
    "sap_cve_df.loc[(sap_cve_df['cve_id'] == 'CVE-2021-38150'),'cweId'] = 'CWE-312'\n",
    "sap_cve_df.loc[(sap_cve_df['cve_id'] == 'CVE-2021-38176'),'cweId'] = 'CWE-89'\n",
    "sap_cve_df.loc[(sap_cve_df['cve_id'] == 'CVE-2021-38177'),'cweId'] = 'CWE-476'\n",
    "sap_cve_df.loc[(sap_cve_df['cve_id'] == 'CVE-2021-40497'),'cweId'] = 'CWE-668'\n",
    "sap_cve_df.loc[(sap_cve_df['cve_id'] == 'CVE-2021-42064'),'cweId'] = 'CWE-89'\n",
    "sap_cve_df.loc[(sap_cve_df['cve_id'] == 'CVE-2021-42068'),'cweId'] = 'CWE-20'\n",
    "sap_cve_df.loc[(sap_cve_df['cve_id'] == 'CVE-2021-44232'),'cweId'] = 'CWE-22'\n",
    "sap_cve_df.loc[(sap_cve_df['cve_id'] == 'CVE-2023-0215'),'cweId'] = 'CWE-416'\n",
    "sap_cve_df.loc[(sap_cve_df['cve_id'] == 'CVE-2020-6369'),'cweId'] = 'CWE-798'\n",
    "sap_cve_df.loc[(sap_cve_df['cve_id'] == 'CVE-2020-13936'),'cweId'] = 'CWE-94'\n",
    "sap_cve_df.loc[(sap_cve_df['cve_id'] == 'CVE-2021-21446'),'cweId'] = 'CWE-400'\n",
    "sap_cve_df.loc[(sap_cve_df['cve_id'] == 'CVE-2021-21482'),'cweId'] = 'CWE-200'\n",
    "sap_cve_df.loc[(sap_cve_df['cve_id'] == 'CVE-2021-21483'),'cweId'] = 'CWE-200'\n",
    "sap_cve_df.loc[(sap_cve_df['cve_id'] == 'CVE-2021-21485'),'cweId'] = 'CWE-200'\n",
    "#sap_cve_df.loc[(sap_cve_df['cve_id'] == 'CVE-2024-29415'),'cweId'] = 'CWE-941'\n",
    "sap_cve_df.loc[(sap_cve_df['cve_id'] == 'CVE-2024-47593'),'cweId'] = 'CWE-524'\n",
    "sap_cve_df.loc[(sap_cve_df['cve_id'] == 'CVE-2022-26104'),'cweId'] = 'CWE-862'"
   ]
  },
  {
   "cell_type": "code",
   "execution_count": 28,
   "id": "c2c777e4-7e94-4a4d-94c7-f461c256e467",
   "metadata": {},
   "outputs": [],
   "source": [
    "#sap_cve_df.loc[(sap_cve_df['cve_id'] == 'CVE-2021-33690')]"
   ]
  },
  {
   "cell_type": "code",
   "execution_count": 29,
   "id": "8b3b85ee-33d2-4a8b-a40c-423e860f04cb",
   "metadata": {},
   "outputs": [],
   "source": [
    "sap_cve_df.to_csv('sap_cve_last_202412_all.csv', index=False)"
   ]
  },
  {
   "cell_type": "code",
   "execution_count": 30,
   "id": "094983a1-8ab2-48fe-8860-8692fbc0f0fa",
   "metadata": {},
   "outputs": [
    {
     "data": {
      "text/plain": [
       "99"
      ]
     },
     "execution_count": 30,
     "metadata": {},
     "output_type": "execute_result"
    }
   ],
   "source": [
    "sap_cve_df.loc[(sap_cve_df['Priority'] == 'Hot News')]['Priority'].count()"
   ]
  },
  {
   "cell_type": "code",
   "execution_count": 31,
   "id": "cdd96326-f78f-4835-9b1e-6f2c46245cd3",
   "metadata": {},
   "outputs": [
    {
     "name": "stdout",
     "output_type": "stream",
     "text": [
      "<class 'pandas.core.frame.DataFrame'>\n",
      "RangeIndex: 835 entries, 0 to 834\n",
      "Data columns (total 27 columns):\n",
      " #   Column         Non-Null Count  Dtype  \n",
      "---  ------         --------------  -----  \n",
      " 0   Note#          835 non-null    int64  \n",
      " 1   Title          835 non-null    object \n",
      " 2   Priority       835 non-null    object \n",
      " 3   CVSS           835 non-null    object \n",
      " 4   cve_id         835 non-null    object \n",
      " 5   sap_note_year  835 non-null    object \n",
      " 6   datePublished  835 non-null    object \n",
      " 7   dateUpdated    835 non-null    object \n",
      " 8   descriptions   835 non-null    object \n",
      " 9   product_l      835 non-null    object \n",
      " 10  epss_l         835 non-null    object \n",
      " 11  percentile     835 non-null    object \n",
      " 12  priority_l     167 non-null    object \n",
      " 13  cweId          835 non-null    object \n",
      " 14  note_id        835 non-null    object \n",
      " 15  priority       835 non-null    object \n",
      " 16  epss           835 non-null    float64\n",
      " 17  cvss           835 non-null    float64\n",
      " 18  cvss_version   835 non-null    object \n",
      " 19  cvss_severity  835 non-null    object \n",
      " 20  kev            28 non-null     object \n",
      " 21  ransomware     28 non-null     object \n",
      " 22  kev_source     835 non-null    object \n",
      " 23  cpe            835 non-null    object \n",
      " 24  vendor         710 non-null    object \n",
      " 25  product        710 non-null    object \n",
      " 26  vector         835 non-null    object \n",
      "dtypes: float64(2), int64(1), object(24)\n",
      "memory usage: 176.3+ KB\n"
     ]
    }
   ],
   "source": [
    "sap_cve_df.info()"
   ]
  },
  {
   "cell_type": "code",
   "execution_count": null,
   "id": "526ced00-9e77-45cb-b2dd-742d3be46fc5",
   "metadata": {},
   "outputs": [],
   "source": []
  }
 ],
 "metadata": {
  "kernelspec": {
   "display_name": "Python 3 (ipykernel)",
   "language": "python",
   "name": "python3"
  },
  "language_info": {
   "codemirror_mode": {
    "name": "ipython",
    "version": 3
   },
   "file_extension": ".py",
   "mimetype": "text/x-python",
   "name": "python",
   "nbconvert_exporter": "python",
   "pygments_lexer": "ipython3",
   "version": "3.11.2"
  }
 },
 "nbformat": 4,
 "nbformat_minor": 5
}
