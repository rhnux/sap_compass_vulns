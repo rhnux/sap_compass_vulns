{
 "cells": [
  {
   "cell_type": "code",
   "execution_count": 1,
   "id": "c415703c-7100-4102-9c27-464c1abed099",
   "metadata": {},
   "outputs": [],
   "source": [
    "import pandas as pd\n",
    "import numpy as np\n",
    "import tabula\n",
    "import re\n",
    "pd.set_option('display.max_rows', 500)"
   ]
  },
  {
   "cell_type": "code",
   "execution_count": 2,
   "id": "6b730361-8a55-41e2-a3ca-97a8e7e3e14d",
   "metadata": {},
   "outputs": [
    {
     "name": "stderr",
     "output_type": "stream",
     "text": [
      "Jan 13, 2025 1:26:14 PM org.apache.pdfbox.pdmodel.font.PDTrueTypeFont <init>\n",
      "WARNING: Using fallback font 'LiberationSans' for 'TimesNewRomanPSMT'\n",
      "Jan 13, 2025 1:26:15 PM org.apache.pdfbox.pdmodel.font.PDTrueTypeFont <init>\n",
      "WARNING: Using fallback font 'LiberationSans' for 'TimesNewRomanPSMT'\n",
      "Jan 13, 2025 1:26:15 PM org.apache.pdfbox.pdmodel.font.PDTrueTypeFont <init>\n",
      "WARNING: Using fallback font 'LiberationSans' for 'TimesNewRomanPSMT'\n",
      "Jan 13, 2025 1:26:15 PM org.apache.pdfbox.pdmodel.font.PDTrueTypeFont <init>\n",
      "WARNING: Using fallback font 'LiberationSans-Bold' for 'TimesNewRomanPS-BoldMT'\n",
      "Jan 13, 2025 1:26:16 PM org.apache.pdfbox.pdmodel.font.PDTrueTypeFont <init>\n",
      "WARNING: Using fallback font 'LiberationSans-Bold' for 'TimesNewRomanPS-BoldMT'\n",
      "Jan 13, 2025 1:26:16 PM org.apache.pdfbox.pdmodel.font.PDTrueTypeFont <init>\n",
      "WARNING: Using fallback font 'LiberationSans' for 'TimesNewRomanPSMT'\n"
     ]
    }
   ],
   "source": [
    "dft_2021 = tabula.read_pdf('2021 Blog.pdf', pages='all', stream=True, pandas_options={'header': None})\n",
    "dft_2022 = tabula.read_pdf('2022 12 Patch Day Blog V9.0.pdf', pages='all', stream=True, pandas_options={'header': None})\n",
    "dft_2023 = tabula.read_pdf('2023 12 Patch Day Blog V2.0 (1).pdf', pages='all', stream=True, pandas_options={'header': None})"
   ]
  },
  {
   "cell_type": "code",
   "execution_count": 3,
   "id": "4fdf22c3-d0c1-4d0c-a8f9-73e7f08a9f0b",
   "metadata": {},
   "outputs": [],
   "source": [
    "def newHeader(xdf):\n",
    "    data_list = []\n",
    "    header = xdf[0].iloc[0]\n",
    "    xdf[0].columns = header\n",
    "    xdf[0] = xdf[0].drop([0])\n",
    "    xdf[0][\"cve_id\"] = xdf[0][\"Title\"].str.extract(r'(CVE-....-\\d+)')\n",
    "    for i in range(0, len(xdf)):\n",
    "        if i == 0:\n",
    "            data = xdf[i].iloc[1:]\n",
    "        else:\n",
    "            data = xdf[i]\n",
    "        if data.shape[1] == header.shape[0]:\n",
    "            data.columns = header\n",
    "            xdf[i][\"cve_id\"] = xdf[i][\"Title\"].str.extract(r'(CVE-....-\\d+)')\n",
    "            data_list.append(data)\n",
    "    return data_list"
   ]
  },
  {
   "cell_type": "code",
   "execution_count": 4,
   "id": "dcdabb4d-1ba3-4eeb-bc3d-42c1b3557bfd",
   "metadata": {},
   "outputs": [],
   "source": [
    "dftt_2021 = newHeader(dft_2021)\n",
    "dftt_2022 = newHeader(dft_2022)\n",
    "dftt_2023 = newHeader(dft_2023)"
   ]
  },
  {
   "cell_type": "code",
   "execution_count": 5,
   "id": "404125ee-bc9c-4dac-89c7-a8b4bd862688",
   "metadata": {},
   "outputs": [],
   "source": [
    "sap_2021 = pd.concat(dftt_2021)\n",
    "sap_2022 = pd.concat(dftt_2022)\n",
    "sap_2023 = pd.concat(dftt_2023)"
   ]
  },
  {
   "cell_type": "code",
   "execution_count": 6,
   "id": "27eeba29-83c9-4497-91ad-903237bdb8d1",
   "metadata": {},
   "outputs": [],
   "source": [
    "# Pandas merge rows in a column 'Title'\n",
    "# https://stackoverflow.com/questions/64141451/pandas-merge-rows-in-a-column\n",
    "def mergeTitle(ydf):\n",
    "    ydf['Title'] = ydf['Title'].astype(str)\n",
    "    blocks = ydf['CVSS'].notna().cumsum()\n",
    "    agg_dict = {col:' '.join if col=='Title' else 'first' for col in ydf}\n",
    "    df_t = ydf.groupby(blocks).agg(agg_dict).reset_index(drop=True)\n",
    "    df_t.dropna(inplace=True)\n",
    "    df_t = df_t[(df_t['Note#'] != 'Note#')]\n",
    "    df_t['Note#'] = df_t['Note#'].astype(int)\n",
    "    df_t.reset_index(drop=True, inplace=True)\n",
    "    return df_t"
   ]
  },
  {
   "cell_type": "code",
   "execution_count": 7,
   "id": "705d2610-e21f-4898-9e7e-c90bc42fc204",
   "metadata": {},
   "outputs": [],
   "source": [
    "sap_2021_notes = mergeTitle(sap_2021)\n",
    "sap_2022_notes = mergeTitle(sap_2022)\n",
    "sap_2023_notes = mergeTitle(sap_2023)"
   ]
  },
  {
   "cell_type": "code",
   "execution_count": 8,
   "id": "8a79ce1d-e407-4205-accd-e9a35b286068",
   "metadata": {},
   "outputs": [],
   "source": [
    "#sap_2023_notes"
   ]
  },
  {
   "cell_type": "code",
   "execution_count": 9,
   "id": "27aa758e-839b-4373-aefb-0974bfc897a8",
   "metadata": {},
   "outputs": [],
   "source": [
    "sap_2024_all = pd.read_html('https://support.sap.com/en/my-support/knowledge-base/security-notes-news/bulletin-2024.html',\n",
    "                            flavor='html5lib')"
   ]
  },
  {
   "cell_type": "code",
   "execution_count": 10,
   "id": "1698c3f9-9bbd-4a27-b9e4-515fa9e19f67",
   "metadata": {},
   "outputs": [],
   "source": [
    "def ds_sap_24(x):\n",
    "    sap_2024_ls = []\n",
    "    for mes in x:\n",
    "        mes.rename(columns={'Severity': 'Priority'}, inplace=True)\n",
    "        sap_2024_ls.append(mes)\n",
    "    sap_2024 = pd.concat(sap_2024_ls, ignore_index=True)\n",
    "    sap_2024[\"cve_id\"] = sap_2024[\"Title\"].str.extract(r'(CVE-....-\\d+)')\n",
    "    return sap_2024"
   ]
  },
  {
   "cell_type": "code",
   "execution_count": 11,
   "id": "038ecf18-e017-499e-ae8e-c052c15fc193",
   "metadata": {},
   "outputs": [],
   "source": [
    "sap_2024_df = ds_sap_24(sap_2024_all)"
   ]
  },
  {
   "cell_type": "code",
   "execution_count": 12,
   "id": "5e211b90-c0d8-4189-b33c-2038e8c2907d",
   "metadata": {},
   "outputs": [],
   "source": [
    "sap_2024_notes = sap_2024_df.dropna()\n",
    "#sap_2024_notes = pd.read_csv('sap_notes_2024.csv')"
   ]
  },
  {
   "cell_type": "code",
   "execution_count": 50,
   "id": "6994a3e6-e57c-4801-84db-d8e50938009a",
   "metadata": {},
   "outputs": [],
   "source": [
    "# start extract cve_ids string for terminal commands\n",
    "# Mejorar y crear un file para flag del commando.\n",
    "l_sap_cve = sap_2021_notes.cve_id.to_list()"
   ]
  },
  {
   "cell_type": "code",
   "execution_count": 51,
   "id": "dd67e9d0-4207-4200-a932-56a464d0fd31",
   "metadata": {},
   "outputs": [],
   "source": [
    "clean_sap_cve = [x for x in l_sap_cve if str(x) != 'nan']"
   ]
  },
  {
   "cell_type": "code",
   "execution_count": 52,
   "id": "9cf992b5-ec19-429d-a763-629227abbaf4",
   "metadata": {},
   "outputs": [],
   "source": [
    "#cleanedList"
   ]
  },
  {
   "cell_type": "code",
   "execution_count": 55,
   "id": "2b7772a8-34e2-4e20-8a5a-2ffc7f7aca28",
   "metadata": {},
   "outputs": [],
   "source": [
    "string_list = [str(element) for element in clean_sap_cve]\n",
    "delimiter = \" \"\n",
    "result_string_cve = delimiter.join(string_list)"
   ]
  },
  {
   "cell_type": "code",
   "execution_count": 56,
   "id": "6143e541-1c8d-494e-ba11-5fca4ecb2452",
   "metadata": {},
   "outputs": [
    {
     "data": {
      "text/plain": [
       "'CVE-2021-21446 CVE-2020-6307 CVE-2020-6224 CVE-2021-21445 CVE-2021-21447 CVE-2020-6256 CVE-2020-26816 CVE-2021-21448 CVE-2021-21469 CVE-2021-21449 CVE-2021-21467 CVE-2021-21470 CVE-2021-21477 CVE-2021-21465 CVE-2020-26832 CVE-2021-21446 CVE-2021-21472 CVE-2019-0337 CVE-2021-21444 CVE-2021-21476 CVE-2021-21478 CVE-2019-0388 CVE-2021-21474 CVE-2021-21475 CVE-2020-6207 CVE-2021-21480 CVE-2021-21481 CVE-2021-21484 CVE-2021-21486 CVE-2021-21488 CVE-2021-21487 CVE-2020-6308 CVE-2021-21491 CVE-2021-27592 CVE-2021-27585 CVE-2020-6316 CVE-2021-27596 CVE-2021-27602 CVE-2021-21481 CVE-2021-21482 CVE-2021-21483 CVE-2020-26832 CVE-2021-27608 CVE-2021-21485 CVE-2021-27598 CVE-2021-27603 CVE-2021-27599 CVE-2021-27604 CVE-2021-27600 CVE-2021-27601 CVE-2021-21491 CVE-2021-27609 CVE-2021-21492 CVE-2021-27605 CVE-2021-27602 CVE-2021-21466 CVE-2021-27611 CVE-2021-27616 CVE-2021-27613 CVE-2021-27619 CVE-2021-27617 CVE-2021-21491 CVE-2021-27609 CVE-2021-27612 CVE-2021-27602 CVE-2021-27610 CVE-2021-27635 CVE-2021-27606 CVE-2021-27597 CVE-2021-27607 CVE-2021-33662 CVE-2021-27615 CVE-2021-21473 CVE-2021-21490 CVE-2021-27620 CVE-2021-27637 CVE-2021-33663 CVE-2021-27621 CVE-2021-33664 CVE-2021-33665 CVE-2021-33666 CVE-2021-27638 CVE-2021-27605 CVE-2021-27610 CVE-2021-33671 CVE-2021-33670 CVE-2021-33676 CVE-2021-27604 CVE-2021-33677 CVE-2021-33678 CVE-2021-33682 CVE-2021-33683 CVE-2021-33684 CVE-2021-33687 CVE-2021-33667 CVE-2021-33681 CVE-2021-33689 CVE-2021-33698 CVE-2021-33690 CVE-2021-33701 CVE-2021-33702 CVE-2021-33703 CVE-2021-33705 CVE-2021-33699 CVE-2021-33700 CVE-2021-33691 CVE-2021-33695 CVE-2021-33704 CVE-2021-21473 CVE-2021-33707 CVE-2021-33696 CVE-2021-33697 CVE-2021-37535 CVE-2021-33698 CVE-2021-38176 CVE-2021-38163 CVE-2021-37531 CVE-2021-33672 CVE-2021-38162 CVE-2021-38177 CVE-2021-33685 CVE-2021-38175 CVE-2021-38150 CVE-2021-33679 CVE-2021-38164 CVE-2021-33686 CVE-2021-21489 CVE-2021-33688 CVE-2021-37532 CVE-2021-38174 CVE-2020-10683 CVE-2021-38178 CVE-2021-40498 CVE-2021-40500 CVE-2021-38179 CVE-2021-38180 CVE-2021-38181 CVE-2021-40499 CVE-2020-11023 CVE-2021-38183 CVE-2021-40495 CVE-2021-40497 CVE-2021-40496 CVE-2021-40501 CVE-2021-40502 CVE-2020-6369 CVE-2021-40503 CVE-2021-42062 CVE-2021-38164 CVE-2021-40504 CVE-2021-21341 CVE-2021-44231 CVE-2021-38176 CVE-2021-42064 CVE-2021-42063 CVE-2021-44235 CVE-2021-40498 CVE-2021-44232 CVE-2021-37714 CVE-2021-33683 CVE-2021-42068 CVE-2019-0388 CVE-2021-42061 CVE-2021-44233'"
      ]
     },
     "execution_count": 56,
     "metadata": {},
     "output_type": "execute_result"
    }
   ],
   "source": [
    "result_string_cve"
   ]
  },
  {
   "cell_type": "code",
   "execution_count": null,
   "id": "d353f320-11f7-47d4-9097-0f4d159d0a2d",
   "metadata": {},
   "outputs": [],
   "source": [
    "# end extract cve_ids"
   ]
  },
  {
   "cell_type": "code",
   "execution_count": 20,
   "id": "0ee96f7c-64ef-461f-9189-1cb9fcb9e36b",
   "metadata": {},
   "outputs": [],
   "source": [
    "### Crear DataFrame de output Sploitscan\n",
    "def dataframeSplotscan(file_json):\n",
    "    data = pd.DataFrame(columns = ['cve_id', 'dateUpdated', 'descriptions', 'product_l', 'epss_l', 'percentile', 'priority_l', 'cweId'])\n",
    "    dict_list = []\n",
    "    sap_sp = pd.read_json(f'{file_json}', typ='series')\n",
    "    for i in sap_sp:\n",
    "        if 'problemTypes' in i['CVE Data']['containers']['cna'].keys():            \n",
    "            if 'cweId' in i['CVE Data']['containers']['cna']['problemTypes'][0]['descriptions'][0].keys():\n",
    "                cweId = i['CVE Data']['containers']['cna']['problemTypes'][0]['descriptions'][0]['cweId']\n",
    "            else:\n",
    "                cweId = i['CVE Data']['containers']['cna']['problemTypes'][0]['descriptions'][0]['description']\n",
    "        else:\n",
    "            cweId = None\n",
    "        if len(i['EPSS Data']['data']) == 1:\n",
    "            epss_l = i['EPSS Data']['data'][0]['epss']\n",
    "            percentile = i['EPSS Data']['data'][0]['percentile']\n",
    "        else:\n",
    "            epss_l = None\n",
    "            percentile = None\n",
    "        if 'datePublished' in i['CVE Data']['cveMetadata']:\n",
    "            datePublished = i['CVE Data']['cveMetadata']['datePublished']\n",
    "        else:\n",
    "            datePublished = None\n",
    "        if 'references' in i['CVE Data']['containers']['cna'].keys():            \n",
    "            note_id = re.findall('[2,3]{1}[0-9]{6}', str(i['CVE Data']['containers']['cna']['references'][0]['url']))\n",
    "        else:\n",
    "            note_id = None\n",
    "        row_list = {'cve_id': i['CVE Data']['cveMetadata']['cveId'],\n",
    "                    #'datePublished': i['CVE Data']['cveMetadata']['datePublished'],\n",
    "                    'datePublished': datePublished,\n",
    "                    'dateUpdated': i['CVE Data']['cveMetadata']['dateUpdated'],\n",
    "                    'descriptions': i['CVE Data']['containers']['cna']['descriptions'][0]['value'],\n",
    "                    'product_l': i['CVE Data']['containers']['cna']['affected'][0]['product'],\n",
    "                    #'epss_l': i['EPSS Data']['data'][0]['epss'],\n",
    "                    #'benchmark': i['VulnCheck Data']['_benchmark'],\n",
    "                    'epss_l': epss_l,\n",
    "                    'percentile': percentile,\n",
    "                    'priority_l': i['Priority']['Priority'],\n",
    "                    'cweId': cweId,\n",
    "                    'note_id': str(note_id)}\n",
    "        dict_list.append(row_list)\n",
    "\n",
    "    data = pd.DataFrame.from_dict(dict_list)\n",
    "    return(data)"
   ]
  },
  {
   "cell_type": "code",
   "execution_count": 57,
   "id": "d353eb05-3c15-4b34-a9ff-c03870745844",
   "metadata": {},
   "outputs": [],
   "source": [
    "#especial 2021 sap notes\n",
    "#sp_sap_cve_2021 = dataframeSplotscan('sap_history_data_curate/sp_2021_last.json')"
   ]
  },
  {
   "cell_type": "code",
   "execution_count": 58,
   "id": "ce8d1d81-4e0e-42c2-807f-179dff563d88",
   "metadata": {},
   "outputs": [],
   "source": [
    "sp_sap_cve_2021 = dataframeSplotscan('sap_history_data_curate/aws_2021.json')\n",
    "sp_sap_cve_2021.drop_duplicates(subset=['cve_id'], inplace=True)\n",
    "sp_sap_cve_2022 = dataframeSplotscan('sap_history_data_curate/aws_2022.json')\n",
    "sp_sap_cve_2022.drop_duplicates(subset=['cve_id'], inplace=True)\n",
    "sp_sap_cve_2023 = dataframeSplotscan('sap_history_data_curate/aws_2023.json')\n",
    "sp_sap_cve_2023.drop_duplicates(subset=['cve_id'], inplace=True)\n",
    "#sp_sap_cve_2024 = dataframeSplotscan('sap_history_data_curate/sp_2024_last.json')\n",
    "sp_sap_cve_2024 = dataframeSplotscan('sap_history_data_curate/aws_2024.json')\n",
    "sp_sap_cve_2024.drop_duplicates(subset=['cve_id'], inplace=True)"
   ]
  },
  {
   "cell_type": "code",
   "execution_count": 59,
   "id": "faf23f8a-81d1-46c0-b386-2c068b77ad56",
   "metadata": {},
   "outputs": [],
   "source": [
    "#sp_sap_cve_2024"
   ]
  },
  {
   "cell_type": "code",
   "execution_count": 60,
   "id": "d0114ae5-17c4-4055-ad41-fae482328b23",
   "metadata": {},
   "outputs": [],
   "source": [
    "cp_sap_cve_2021 = pd.read_csv('sap_history_data_curate/aws_2021.csv')\n",
    "cp_sap_cve_2022 = pd.read_csv('sap_history_data_curate/aws_2022.csv')\n",
    "cp_sap_cve_2023 = pd.read_csv('sap_history_data_curate/aws_2023.csv')\n",
    "#cp_sap_cve_2024 = pd.read_csv('sap_history_data_curate/cvep_2024_poc.csv')\n",
    "cp_sap_cve_2024 = pd.read_csv('sap_history_data_curate/aws_2024.csv')"
   ]
  },
  {
   "cell_type": "code",
   "execution_count": 61,
   "id": "dc9537c3-ecf3-43de-a34c-c8e88e42fe28",
   "metadata": {},
   "outputs": [],
   "source": [
    "cp_sap_cve_2021.drop_duplicates(subset=['cve_id'], inplace=True)\n",
    "cp_sap_cve_2022.drop_duplicates(subset=['cve_id'], inplace=True)\n",
    "cp_sap_cve_2023.drop_duplicates(subset=['cve_id'], inplace=True)\n",
    "cp_sap_cve_2024.drop_duplicates(subset=['cve_id'], inplace=True)"
   ]
  },
  {
   "cell_type": "code",
   "execution_count": 62,
   "id": "8148fa20-4dbf-4b1b-ba72-e032b972674e",
   "metadata": {},
   "outputs": [],
   "source": [
    "sap_cve_2023 = sap_2023_notes.merge(sp_sap_cve_2023, on=['cve_id'])\n",
    "sap_cve_2023 = sap_cve_2023.merge(cp_sap_cve_2023, on=['cve_id'])\n",
    "sap_cve_2023['sap_note_year'] = '2023'"
   ]
  },
  {
   "cell_type": "code",
   "execution_count": 63,
   "id": "016a79b9-c77c-43b9-ba57-36af5e204565",
   "metadata": {},
   "outputs": [],
   "source": [
    "sap_cve_2022 = sp_sap_cve_2022.merge(sap_2022_notes, on=['cve_id'])\n",
    "sap_cve_2022 = sap_cve_2022.merge(cp_sap_cve_2022, on=['cve_id'])\n",
    "sap_cve_2022['sap_note_year'] = '2022'"
   ]
  },
  {
   "cell_type": "code",
   "execution_count": 64,
   "id": "d1fd930e-509c-4132-9280-5fc30e3902e0",
   "metadata": {},
   "outputs": [],
   "source": [
    "sap_cve_2021 = sp_sap_cve_2021.merge(sap_2021_notes, on=['cve_id'])\n",
    "sap_cve_2021 = sap_cve_2021.merge(cp_sap_cve_2021, on=['cve_id'])\n",
    "sap_cve_2021['sap_note_year'] = '2021'"
   ]
  },
  {
   "cell_type": "code",
   "execution_count": 65,
   "id": "e50353fe-a629-4d45-a300-4fa0d4001010",
   "metadata": {},
   "outputs": [],
   "source": [
    "sap_cve_2024 = sp_sap_cve_2024.merge(sap_2024_notes, on=['cve_id'])\n",
    "sap_cve_2024 = sap_cve_2024.merge(cp_sap_cve_2024, on=['cve_id'])\n",
    "sap_cve_2024['sap_note_year'] = '2024'"
   ]
  },
  {
   "cell_type": "code",
   "execution_count": 66,
   "id": "7169146c-6b85-46d0-ab1c-cd0d54c9d6bb",
   "metadata": {},
   "outputs": [],
   "source": [
    "sap_cve_df = pd.concat([sap_cve_2021,sap_cve_2022,sap_cve_2023,sap_cve_2024], ignore_index=True)"
   ]
  },
  {
   "cell_type": "code",
   "execution_count": 67,
   "id": "0c57ee69-9a7f-491e-a4f9-94da13894c2f",
   "metadata": {},
   "outputs": [],
   "source": [
    "sap_cve_df.loc[(sap_cve_df['Priority'] == 'Hot') | (sap_cve_df['Priority'] == 'HotNews') | (sap_cve_df['Priority'] == 'Very High'), 'Priority'] = 'Hot News'\n",
    "#sap_cve_df.loc[(sap_cve_df['Priority'] == 'Hot') | (sap_cve_df['Priority'] == 'HotNews'), 'Priority'] = 'Hot News'\n",
    "\n",
    "sap_cve_df.loc[(sap_cve_df['cweId'] == 'Cross-Site Scripting') | (sap_cve_df['cweId'] == 'Cross Site Scripting') | (sap_cve_df['cweId'] == \"Cross-Site Scripting (XSS)\"), 'cweId'] = \"CWE-79\"\n",
    "\n",
    "sap_cve_df.loc[(sap_cve_df['cweId'] == 'Missing Authorization check') | (sap_cve_df['cweId'] == 'Missing Authorization') | (sap_cve_df['cweId'] == 'Missing Authorization Check'), 'cweId'] = \"CWE-862\"\n",
    "\n",
    "sap_cve_df.loc[(sap_cve_df['cve_id'] == 'CVE-2021-21484'),'cweId'] = \"CWE-863\"\n",
    "\n",
    "sap_cve_df.loc[(sap_cve_df['cve_id'] == 'CVE-2023-30533'),'cweId'] = \"CWE-1321\"\n",
    "\n",
    "sap_cve_df.loc[(sap_cve_df['cve_id'] == 'CVE-2022-35737'),'cweId'] = \"CWE-129\"\n",
    "\n",
    "sap_cve_df.loc[(sap_cve_df['cve_id'] == 'CVE-2023-44487'),'cweId'] = \"CWE-400\"\n",
    "\n",
    "sap_cve_df.loc[(sap_cve_df['cve_id'] == 'CVE-2020-6308'),'cweId'] = \"CWE-918\"\n",
    "\n",
    "sap_cve_df.loc[(sap_cve_df['cve_id'] == 'CVE-2020-6207'),'cweId'] = \"CWE-306\"\n",
    "\n",
    "sap_cve_df.loc[(sap_cve_df['cve_id'] == 'CVE-2021-33690'),'cweId'] = \"CWE-918\"\n",
    "\n",
    "sap_cve_df.loc[(sap_cve_df['cve_id'] == 'CVE-2021-38163'),'cweId'] = \"CWE-78\"\n",
    "\n",
    "sap_cve_df.loc[(sap_cve_df['cve_id'] == 'CVE-2021-44235'),'cweId'] = \"CWE-78\"\n",
    "sap_cve_df.loc[(sap_cve_df['cve_id'] == 'CVE-2021-37531'),'cweId'] = \"CWE-78\"\n",
    "\n",
    "sap_cve_df.loc[(sap_cve_df['cve_id'] == 'CVE-2021-33663'),'cweId'] = \"CWE-74\"\n",
    "\n",
    "sap_cve_df.loc[(sap_cve_df['cve_id'] == 'CVE-2024-33007'),'cweId'] = \"CWE-79\"\n",
    "\n",
    "sap_cve_df.loc[(sap_cve_df['cve_id'] == 'CVE-2021-27608'),'cweId'] = \"CWE-428\"\n",
    "\n",
    "sap_cve_df.loc[(sap_cve_df['cve_id'] == 'CVE-2021-27635'),'cweId'] = \"CWE-112\"\n",
    "\n",
    "sap_cve_df.loc[(sap_cve_df['cve_id'] == 'CVE-2021-27635'),'cweId'] = \"CWE-112\"\n",
    "sap_cve_df.loc[(sap_cve_df['cve_id'] == 'CVE-2021-27617'),'cweId'] = \"CWE-112\"\n",
    "\n",
    "sap_cve_df.loc[(sap_cve_df['cve_id'] == 'CVE-2021-40499'),'cweId'] = \"CWE-94\"\n",
    "sap_cve_df.loc[(sap_cve_df['cve_id'] == 'CVE-2021-27611'),'cweId'] = \"CWE-94\"\n",
    "sap_cve_df.loc[(sap_cve_df['cve_id'] == 'CVE-2021-21466'),'cweId'] = \"CWE-94\"\n",
    "sap_cve_df.loc[(sap_cve_df['cve_id'] == 'CVE-2021-27602'),'cweId'] = \"CWE-94\"\n",
    "sap_cve_df.loc[(sap_cve_df['cve_id'] == 'CVE-2021-44231'),'cweId'] = \"CWE-94\"\n",
    "sap_cve_df.loc[(sap_cve_df['cve_id'] == 'CVE-2021-21480'),'cweId'] = \"CWE-94\"\n",
    "\n",
    "sap_cve_df.loc[(sap_cve_df['cve_id'] == 'CVE-2020-10683'),'cweId'] = \"CWE-611\"\n",
    "\n",
    "sap_cve_df.loc[(sap_cve_df['cve_id'] == 'CVE-2021-21444'),'cweId'] = \"CWE-1021\"\n",
    "\n",
    "sap_cve_df.loc[(sap_cve_df['cve_id'] == 'CVE-2019-17495'),'cweId'] = \"CWE-352\"\n",
    "\n",
    "sap_cve_df.loc[(sap_cve_df['cve_id'] == 'CVE-2021-44151'),'cweId'] = \"CWE-330\"\n",
    "\n",
    "sap_cve_df.loc[(sap_cve_df['cve_id'] == 'CVE-2013-3587'),'cweId'] = 'CWE-200'\n",
    "sap_cve_df.loc[(sap_cve_df['cve_id'] == 'CVE-2019-0388'),'cweId'] = 'CWE-290'\n",
    "sap_cve_df.loc[(sap_cve_df['cve_id'] == 'CVE-2020-26816'),'cweId'] = 'CWE-312'\n",
    "sap_cve_df.loc[(sap_cve_df['cve_id'] == 'CVE-2020-6215'),'cweId'] = 'CWE-601'\n",
    "sap_cve_df.loc[(sap_cve_df['cve_id'] == 'CVE-2020-6224'),'cweId'] = 'CWE-532'\n",
    "sap_cve_df.loc[(sap_cve_df['cve_id'] == 'CVE-2021-21445'),'cweId'] = 'CWE-444'\n",
    "sap_cve_df.loc[(sap_cve_df['cve_id'] == 'CVE-2021-21449'),'cweId'] = 'CWE-119'\n",
    "sap_cve_df.loc[(sap_cve_df['cve_id'] == 'CVE-2021-21465'),'cweId'] = 'CWE-89'\n",
    "sap_cve_df.loc[(sap_cve_df['cve_id'] == 'CVE-2021-21469'),'cweId'] = 'CWE-200'\n",
    "sap_cve_df.loc[(sap_cve_df['cve_id'] == 'CVE-2021-21470'),'cweId'] = 'CWE-611'\n",
    "sap_cve_df.loc[(sap_cve_df['cve_id'] == 'CVE-2021-21472'),'cweId'] = 'CWE-306'\n",
    "sap_cve_df.loc[(sap_cve_df['cve_id'] == 'CVE-2021-21474'),'cweId'] = 'CWE-326'\n",
    "sap_cve_df.loc[(sap_cve_df['cve_id'] == 'CVE-2021-21475'),'cweId'] = 'CWE-22'\n",
    "sap_cve_df.loc[(sap_cve_df['cve_id'] == 'CVE-2021-21476'),'cweId'] = 'CWE-601'\n",
    "sap_cve_df.loc[(sap_cve_df['cve_id'] == 'CVE-2021-21477'),'cweId'] = 'CWE-94'\n",
    "sap_cve_df.loc[(sap_cve_df['cve_id'] == 'CVE-2021-21478'),'cweId'] = 'CWE-601'\n",
    "sap_cve_df.loc[(sap_cve_df['cve_id'] == 'CVE-2021-21488'),'cweId'] = 'CWE-502'\n",
    "sap_cve_df.loc[(sap_cve_df['cve_id'] == 'CVE-2021-21491'),'cweId'] = 'CWE-601'\n",
    "sap_cve_df.loc[(sap_cve_df['cve_id'] == 'CVE-2021-27610'),'cweId'] = 'CWE-287'\n",
    "sap_cve_df.loc[(sap_cve_df['cve_id'] == 'CVE-2021-27612'),'cweId'] = 'CWE-601'\n",
    "sap_cve_df.loc[(sap_cve_df['cve_id'] == 'CVE-2021-27638'),'cweId'] = 'CWE-20'\n",
    "sap_cve_df.loc[(sap_cve_df['cve_id'] == 'CVE-2021-33672'),'cweId'] = 'CWE-116'\n",
    "sap_cve_df.loc[(sap_cve_df['cve_id'] == 'CVE-2021-33676'),'cweId'] = 'CWE-862'\n",
    "sap_cve_df.loc[(sap_cve_df['cve_id'] == 'CVE-2021-33685'),'cweId'] = 'CWE-22'\n",
    "sap_cve_df.loc[(sap_cve_df['cve_id'] == 'CVE-2021-33687'),'cweId'] = 'CWE-200'\n",
    "sap_cve_df.loc[(sap_cve_df['cve_id'] == 'CVE-2021-33688'),'cweId'] = 'CWE-89'\n",
    "sap_cve_df.loc[(sap_cve_df['cve_id'] == 'CVE-2021-38150'),'cweId'] = 'CWE-312'\n",
    "sap_cve_df.loc[(sap_cve_df['cve_id'] == 'CVE-2021-38176'),'cweId'] = 'CWE-89'\n",
    "sap_cve_df.loc[(sap_cve_df['cve_id'] == 'CVE-2021-38177'),'cweId'] = 'CWE-476'\n",
    "sap_cve_df.loc[(sap_cve_df['cve_id'] == 'CVE-2021-40497'),'cweId'] = 'CWE-668'\n",
    "sap_cve_df.loc[(sap_cve_df['cve_id'] == 'CVE-2021-42064'),'cweId'] = 'CWE-89'\n",
    "sap_cve_df.loc[(sap_cve_df['cve_id'] == 'CVE-2021-42068'),'cweId'] = 'CWE-20'\n",
    "sap_cve_df.loc[(sap_cve_df['cve_id'] == 'CVE-2021-44232'),'cweId'] = 'CWE-22'\n",
    "sap_cve_df.loc[(sap_cve_df['cve_id'] == 'CVE-2023-0215'),'cweId'] = 'CWE-416'\n",
    "sap_cve_df.loc[(sap_cve_df['cve_id'] == 'CVE-2020-6369'),'cweId'] = 'CWE-798'\n",
    "sap_cve_df.loc[(sap_cve_df['cve_id'] == 'CVE-2020-13936'),'cweId'] = 'CWE-94'\n",
    "sap_cve_df.loc[(sap_cve_df['cve_id'] == 'CVE-2021-21446'),'cweId'] = 'CWE-400'\n",
    "sap_cve_df.loc[(sap_cve_df['cve_id'] == 'CVE-2021-21482'),'cweId'] = 'CWE-200'\n",
    "sap_cve_df.loc[(sap_cve_df['cve_id'] == 'CVE-2021-21483'),'cweId'] = 'CWE-200'\n",
    "sap_cve_df.loc[(sap_cve_df['cve_id'] == 'CVE-2021-21485'),'cweId'] = 'CWE-200'\n",
    "#sap_cve_df.loc[(sap_cve_df['cve_id'] == 'CVE-2024-29415'),'cweId'] = 'CWE-941'\n",
    "sap_cve_df.loc[(sap_cve_df['cve_id'] == 'CVE-2024-47593'),'cweId'] = 'CWE-524'\n",
    "sap_cve_df.loc[(sap_cve_df['cve_id'] == 'CVE-2022-26104'),'cweId'] = 'CWE-862'"
   ]
  },
  {
   "cell_type": "code",
   "execution_count": 68,
   "id": "8b3b85ee-33d2-4a8b-a40c-423e860f04cb",
   "metadata": {},
   "outputs": [],
   "source": [
    "sap_cve_df.to_csv('sap_cve_2024_aws.csv', index=False)"
   ]
  },
  {
   "cell_type": "code",
   "execution_count": 69,
   "id": "1bf27a11-687f-434f-9aca-6c67033bb534",
   "metadata": {},
   "outputs": [
    {
     "name": "stdout",
     "output_type": "stream",
     "text": [
      "<class 'pandas.core.frame.DataFrame'>\n",
      "RangeIndex: 688 entries, 0 to 687\n",
      "Data columns (total 27 columns):\n",
      " #   Column         Non-Null Count  Dtype  \n",
      "---  ------         --------------  -----  \n",
      " 0   cve_id         688 non-null    object \n",
      " 1   datePublished  688 non-null    object \n",
      " 2   dateUpdated    688 non-null    object \n",
      " 3   descriptions   688 non-null    object \n",
      " 4   product_l      688 non-null    object \n",
      " 5   epss_l         688 non-null    object \n",
      " 6   percentile     688 non-null    object \n",
      " 7   priority_l     688 non-null    object \n",
      " 8   cweId          688 non-null    object \n",
      " 9   note_id        688 non-null    object \n",
      " 10  Note#          688 non-null    int64  \n",
      " 11  Title          688 non-null    object \n",
      " 12  Priority       688 non-null    object \n",
      " 13  CVSS           688 non-null    object \n",
      " 14  priority       688 non-null    object \n",
      " 15  epss           688 non-null    float64\n",
      " 16  cvss           688 non-null    float64\n",
      " 17  cvss_version   688 non-null    object \n",
      " 18  cvss_severity  688 non-null    object \n",
      " 19  kev            29 non-null     object \n",
      " 20  ransomware     29 non-null     object \n",
      " 21  kev_source     688 non-null    object \n",
      " 22  cpe            688 non-null    object \n",
      " 23  vendor         614 non-null    object \n",
      " 24  product        614 non-null    object \n",
      " 25  vector         688 non-null    object \n",
      " 26  sap_note_year  688 non-null    object \n",
      "dtypes: float64(2), int64(1), object(24)\n",
      "memory usage: 145.3+ KB\n"
     ]
    }
   ],
   "source": [
    "sap_cve_df.info()"
   ]
  },
  {
   "cell_type": "code",
   "execution_count": 70,
   "id": "094983a1-8ab2-48fe-8860-8692fbc0f0fa",
   "metadata": {},
   "outputs": [
    {
     "data": {
      "text/plain": [
       "413"
      ]
     },
     "execution_count": 70,
     "metadata": {},
     "output_type": "execute_result"
    }
   ],
   "source": [
    "sap_cve_df.loc[(sap_cve_df['Priority'] == 'Medium')]['Priority'].count()"
   ]
  },
  {
   "cell_type": "code",
   "execution_count": 71,
   "id": "99e6ce88-ecb4-4d77-ae3b-ce17d4811fb4",
   "metadata": {},
   "outputs": [
    {
     "data": {
      "text/plain": [
       "cve_id                                              CVE-2024-45284\n",
       "datePublished                             2024-09-10T04:57:24.442Z\n",
       "dateUpdated                               2024-09-10T13:45:15.831Z\n",
       "descriptions     An authenticated attacker with high privilege ...\n",
       "product_l                 SAP Student Life Cycle Management (SLcM)\n",
       "epss_l                                                 0.000430000\n",
       "percentile                                             0.111570000\n",
       "priority_l                                                       D\n",
       "cweId                                                      CWE-862\n",
       "note_id                                                ['2256627']\n",
       "Note#                                                      2256627\n",
       "Title            [CVE-2024-45284] Missing authorization check i...\n",
       "Priority                                                       Low\n",
       "CVSS                                                           2.7\n",
       "priority                                                Priority 4\n",
       "epss                                                       0.00043\n",
       "cvss                                                           2.4\n",
       "cvss_version                                              CVSS 3.1\n",
       "cvss_severity                                                  LOW\n",
       "kev                                                            NaN\n",
       "ransomware                                                     NaN\n",
       "kev_source                                               VULNCHECK\n",
       "cpe                                             cpe:2.3:::::::::::\n",
       "vendor                                                         NaN\n",
       "product                                                        NaN\n",
       "vector                CVSS:3.1/AV:N/AC:L/PR:H/UI:R/S:U/C:N/I:L/A:N\n",
       "sap_note_year                                                 2024\n",
       "Name: 660, dtype: object"
      ]
     },
     "execution_count": 71,
     "metadata": {},
     "output_type": "execute_result"
    }
   ],
   "source": [
    "sap_cve_df.loc[660]"
   ]
  },
  {
   "cell_type": "code",
   "execution_count": null,
   "id": "f1bab1ba-a4b6-45f5-a971-dbecbdb823d6",
   "metadata": {},
   "outputs": [],
   "source": []
  }
 ],
 "metadata": {
  "kernelspec": {
   "display_name": "Python 3 (ipykernel)",
   "language": "python",
   "name": "python3"
  },
  "language_info": {
   "codemirror_mode": {
    "name": "ipython",
    "version": 3
   },
   "file_extension": ".py",
   "mimetype": "text/x-python",
   "name": "python",
   "nbconvert_exporter": "python",
   "pygments_lexer": "ipython3",
   "version": "3.11.2"
  }
 },
 "nbformat": 4,
 "nbformat_minor": 5
}
