{
 "cells": [
  {
   "cell_type": "code",
   "execution_count": 1,
   "id": "c415703c-7100-4102-9c27-464c1abed099",
   "metadata": {},
   "outputs": [],
   "source": [
    "import pandas as pd\n",
    "import numpy as np\n",
    "import tabula\n",
    "import re\n",
    "pd.set_option('display.max_rows', 500)"
   ]
  },
  {
   "cell_type": "code",
   "execution_count": 2,
   "id": "6b730361-8a55-41e2-a3ca-97a8e7e3e14d",
   "metadata": {},
   "outputs": [
    {
     "name": "stderr",
     "output_type": "stream",
     "text": [
      "Dec 12, 2024 7:20:19 PM org.apache.pdfbox.pdmodel.font.PDTrueTypeFont <init>\n",
      "WARNING: Using fallback font 'LiberationSans' for 'TimesNewRomanPSMT'\n",
      "Dec 12, 2024 7:20:20 PM org.apache.pdfbox.pdmodel.font.PDTrueTypeFont <init>\n",
      "WARNING: Using fallback font 'LiberationSans' for 'TimesNewRomanPSMT'\n",
      "Dec 12, 2024 7:20:20 PM org.apache.pdfbox.pdmodel.font.PDTrueTypeFont <init>\n",
      "WARNING: Using fallback font 'LiberationSans' for 'TimesNewRomanPSMT'\n",
      "Dec 12, 2024 7:20:20 PM org.apache.pdfbox.pdmodel.font.PDTrueTypeFont <init>\n",
      "WARNING: Using fallback font 'LiberationSans-Bold' for 'TimesNewRomanPS-BoldMT'\n",
      "Dec 12, 2024 7:20:21 PM org.apache.pdfbox.pdmodel.font.PDTrueTypeFont <init>\n",
      "WARNING: Using fallback font 'LiberationSans-Bold' for 'TimesNewRomanPS-BoldMT'\n",
      "Dec 12, 2024 7:20:21 PM org.apache.pdfbox.pdmodel.font.PDTrueTypeFont <init>\n",
      "WARNING: Using fallback font 'LiberationSans' for 'TimesNewRomanPSMT'\n"
     ]
    }
   ],
   "source": [
    "dft_2021 = tabula.read_pdf('2021 Blog.pdf', pages='all', stream=True, pandas_options={'header': None})\n",
    "dft_2022 = tabula.read_pdf('2022 12 Patch Day Blog V9.0.pdf', pages='all', stream=True, pandas_options={'header': None})\n",
    "dft_2023 = tabula.read_pdf('2023 12 Patch Day Blog V2.0 (1).pdf', pages='all', stream=True, pandas_options={'header': None})"
   ]
  },
  {
   "cell_type": "code",
   "execution_count": 3,
   "id": "4fdf22c3-d0c1-4d0c-a8f9-73e7f08a9f0b",
   "metadata": {},
   "outputs": [],
   "source": [
    "def newHeader(xdf):\n",
    "    data_list = []\n",
    "    header = xdf[0].iloc[0]\n",
    "    xdf[0].columns = header\n",
    "    xdf[0] = xdf[0].drop([0])\n",
    "    xdf[0][\"cve_id\"] = xdf[0][\"Title\"].str.extract(r'(CVE-....-\\d+)')\n",
    "    for i in range(0, len(xdf)):\n",
    "        if i == 0:\n",
    "            data = xdf[i].iloc[1:]\n",
    "        else:\n",
    "            data = xdf[i]\n",
    "        if data.shape[1] == header.shape[0]:\n",
    "            data.columns = header\n",
    "            xdf[i][\"cve_id\"] = xdf[i][\"Title\"].str.extract(r'(CVE-....-\\d+)')\n",
    "            data_list.append(data)\n",
    "    return data_list"
   ]
  },
  {
   "cell_type": "code",
   "execution_count": 4,
   "id": "dcdabb4d-1ba3-4eeb-bc3d-42c1b3557bfd",
   "metadata": {},
   "outputs": [],
   "source": [
    "dftt_2021 = newHeader(dft_2021)\n",
    "dftt_2022 = newHeader(dft_2022)\n",
    "dftt_2023 = newHeader(dft_2023)"
   ]
  },
  {
   "cell_type": "code",
   "execution_count": 5,
   "id": "404125ee-bc9c-4dac-89c7-a8b4bd862688",
   "metadata": {},
   "outputs": [],
   "source": [
    "sap_2021 = pd.concat(dftt_2021)\n",
    "sap_2022 = pd.concat(dftt_2022)\n",
    "sap_2023 = pd.concat(dftt_2023)"
   ]
  },
  {
   "cell_type": "code",
   "execution_count": 6,
   "id": "27eeba29-83c9-4497-91ad-903237bdb8d1",
   "metadata": {},
   "outputs": [],
   "source": [
    "# Pandas merge rows in a column 'Title'\n",
    "# https://stackoverflow.com/questions/64141451/pandas-merge-rows-in-a-column\n",
    "def mergeTitle(ydf):\n",
    "    ydf['Title'] = ydf['Title'].astype(str)\n",
    "    blocks = ydf['CVSS'].notna().cumsum()\n",
    "    agg_dict = {col:' '.join if col=='Title' else 'first' for col in ydf}\n",
    "    df_t = ydf.groupby(blocks).agg(agg_dict).reset_index(drop=True)\n",
    "    df_t.dropna(inplace=True)\n",
    "    df_t = df_t[(df_t['Note#'] != 'Note#')]\n",
    "    df_t['Note#'] = df_t['Note#'].astype(int)\n",
    "    df_t.reset_index(drop=True, inplace=True)\n",
    "    return df_t"
   ]
  },
  {
   "cell_type": "code",
   "execution_count": 7,
   "id": "705d2610-e21f-4898-9e7e-c90bc42fc204",
   "metadata": {},
   "outputs": [],
   "source": [
    "sap_2021_notes = mergeTitle(sap_2021)\n",
    "sap_2022_notes = mergeTitle(sap_2022)\n",
    "sap_2023_notes = mergeTitle(sap_2023)"
   ]
  },
  {
   "cell_type": "code",
   "execution_count": 8,
   "id": "8a79ce1d-e407-4205-accd-e9a35b286068",
   "metadata": {},
   "outputs": [],
   "source": [
    "#sap_2023_notes"
   ]
  },
  {
   "cell_type": "code",
   "execution_count": 9,
   "id": "27aa758e-839b-4373-aefb-0974bfc897a8",
   "metadata": {},
   "outputs": [],
   "source": [
    "# SAP Notes 2024\n",
    "#sap_2024_notes = pd.read_csv('sap_notes_2024.csv')"
   ]
  },
  {
   "cell_type": "code",
   "execution_count": 10,
   "id": "55fefcfb-13a1-411c-a400-cf9c7a2abe73",
   "metadata": {},
   "outputs": [],
   "source": [
    "sap_202401 = pd.read_html('https://support.sap.com/en/my-support/knowledge-base/security-notes-news/january-2024.html',\n",
    "                 flavor='html5lib')\n",
    "sap_202402 = pd.read_html('https://support.sap.com/en/my-support/knowledge-base/security-notes-news/february-2024.html',\n",
    "                 flavor='html5lib')\n",
    "sap_202403 = pd.read_html('https://support.sap.com/en/my-support/knowledge-base/security-notes-news/march-2024.html',\n",
    "                 flavor='html5lib')\n",
    "sap_202404 = pd.read_html('https://support.sap.com/en/my-support/knowledge-base/security-notes-news/april-2024.html',\n",
    "                 flavor='html5lib')\n",
    "sap_202405 = pd.read_html('https://support.sap.com/en/my-support/knowledge-base/security-notes-news/may-2024.html',\n",
    "                 flavor='html5lib')\n",
    "sap_202406 = pd.read_html('https://support.sap.com/en/my-support/knowledge-base/security-notes-news/june-2024.html',\n",
    "                 flavor='html5lib')\n",
    "sap_202407 = pd.read_html('https://support.sap.com/en/my-support/knowledge-base/security-notes-news/july-2024.html',\n",
    "                 flavor='html5lib')\n",
    "sap_202408 = pd.read_html('https://support.sap.com/en/my-support/knowledge-base/security-notes-news/august-2024.html',\n",
    "                 flavor='html5lib')\n",
    "sap_202409 = pd.read_html('https://support.sap.com/en/my-support/knowledge-base/security-notes-news/september-2024.html',\n",
    "                 flavor='html5lib')\n",
    "sap_202410 = pd.read_html('https://support.sap.com/en/my-support/knowledge-base/security-notes-news/october-2024.html',\n",
    "                         flavor='html5lib')\n",
    "sap_202411 = pd.read_html('https://support.sap.com/en/my-support/knowledge-base/security-notes-news/november-2024.html',\n",
    "                         flavor='html5lib')\n",
    "sap_202412 = pd.read_html('https://support.sap.com/en/my-support/knowledge-base/security-notes-news/december-2024.html',\n",
    "                         flavor='html5lib')"
   ]
  },
  {
   "cell_type": "code",
   "execution_count": 11,
   "id": "686a5c3d-9f02-4e66-8871-2aad4791445b",
   "metadata": {},
   "outputs": [
    {
     "data": {
      "text/plain": [
       "[     Note#                                              Title Priority  CVSS\n",
       " 0  3520281  [CVE-2024-47590] Cross-Site Scripting (XSS) vu...     High   8.8\n",
       " 1  3483344  Update to Security Note released on July 2024 ...     High   7.7\n",
       " 2  3335394  [CVE-2024-42372] Missing Authorization check i...   Medium   6.5\n",
       " 3  3509619  [CVE-2024-47595] Local Privilege Escalation in...   Medium   6.3\n",
       " 4  3393899  [CVE-2024-47592] Information Disclosure Vulner...   Medium   5.3\n",
       " 5  3504390  [CVE-2024-47586] NULL Pointer Dereference vuln...   Medium   5.3\n",
       " 6  3522953  [CVE-2024-47588] Information Disclosure vulner...   Medium   4.7\n",
       " 7  3508947  [CVE-2024-47593] Information Disclosure Vulner...   Medium   4.3\n",
       " 8  3498470  [CVE-2024-47587] Missing authorization check i...      Low   3.5\n",
       " 9  3392049  Update to Security Note released on May 2024 P...      Low   3.5]"
      ]
     },
     "execution_count": 11,
     "metadata": {},
     "output_type": "execute_result"
    }
   ],
   "source": [
    "sap_202411"
   ]
  },
  {
   "cell_type": "code",
   "execution_count": 12,
   "id": "a5607005-dea9-4370-ba0c-11662ea49320",
   "metadata": {},
   "outputs": [],
   "source": [
    "def etData1(x):\n",
    "    _df = pd.DataFrame(x[0], columns=['Note#', 'Title', 'Severity', 'CVSS'])\n",
    "    _df.rename(columns={'Severity': 'Priority'}, inplace=True)\n",
    "    _df[\"cve_id\"] = _df[\"Title\"].str.extract(r'(CVE-....-\\d+)')\n",
    "    return _df\n",
    "\n",
    "def etData2(x):\n",
    "    _df = pd.DataFrame(x[0], columns=['Note#', 'Title', 'Priority', 'CVSS'])\n",
    "    _df[\"cve_id\"] = _df[\"Title\"].str.extract(r'(CVE-....-\\d+)')\n",
    "    return _df"
   ]
  },
  {
   "cell_type": "code",
   "execution_count": 13,
   "id": "346559e7-65e2-42c2-b4ba-e339db8f3871",
   "metadata": {},
   "outputs": [],
   "source": [
    "sap_202401_df = etData1(sap_202401)\n",
    "sap_202402_df = etData1(sap_202402)\n",
    "sap_202403_df = etData1(sap_202403)\n",
    "sap_202404_df = etData1(sap_202404)\n",
    "sap_202405_df = etData1(sap_202405)\n",
    "sap_202406_df = etData1(sap_202406)\n",
    "sap_202407_df = etData2(sap_202407)\n",
    "sap_202408_df = etData2(sap_202408)\n",
    "sap_202409_df = etData2(sap_202409)\n",
    "sap_202410_df = etData2(sap_202410)\n",
    "sap_202411_df = etData2(sap_202411)\n",
    "sap_202412_df = etData2(sap_202412)"
   ]
  },
  {
   "cell_type": "code",
   "execution_count": 14,
   "id": "a63f9e26-1130-4f32-86d4-1768daf65467",
   "metadata": {},
   "outputs": [],
   "source": [
    "sap_2024_ls = [sap_202401_df,sap_202402_df,sap_202403_df,sap_202404_df,sap_202405_df,sap_202406_df,sap_202407_df,sap_202408_df,sap_202409_df,sap_202410_df,sap_202411_df,sap_202412_df]\n",
    "sap_2024_df = pd.concat(sap_2024_ls)"
   ]
  },
  {
   "cell_type": "code",
   "execution_count": 15,
   "id": "5e211b90-c0d8-4189-b33c-2038e8c2907d",
   "metadata": {},
   "outputs": [],
   "source": [
    "sap_2024_notes = sap_2024_df.dropna()\n",
    "#sap_2024_notes = pd.read_csv('sap_notes_2024.csv')"
   ]
  },
  {
   "cell_type": "code",
   "execution_count": 33,
   "id": "6994a3e6-e57c-4801-84db-d8e50938009a",
   "metadata": {},
   "outputs": [],
   "source": [
    "# start extract cve_ids string for terminal commands\n",
    "# Mejorar y crear un file para flag del commando.\n",
    "l_sap_cve = sap_2021_notes.cve_id.to_list()"
   ]
  },
  {
   "cell_type": "code",
   "execution_count": 34,
   "id": "dd67e9d0-4207-4200-a932-56a464d0fd31",
   "metadata": {},
   "outputs": [],
   "source": [
    "clean_sap_cve = [x for x in l_sap_cve if str(x) != 'nan']"
   ]
  },
  {
   "cell_type": "code",
   "execution_count": 35,
   "id": "9cf992b5-ec19-429d-a763-629227abbaf4",
   "metadata": {},
   "outputs": [],
   "source": [
    "#cleanedList"
   ]
  },
  {
   "cell_type": "code",
   "execution_count": 36,
   "id": "2b7772a8-34e2-4e20-8a5a-2ffc7f7aca28",
   "metadata": {},
   "outputs": [],
   "source": [
    "string_list = [str(element) for element in clean_sap_cve]\n",
    "delimiter = \",\"\n",
    "result_string_cve = delimiter.join(string_list)"
   ]
  },
  {
   "cell_type": "code",
   "execution_count": 37,
   "id": "6143e541-1c8d-494e-ba11-5fca4ecb2452",
   "metadata": {},
   "outputs": [
    {
     "data": {
      "text/plain": [
       "'CVE-2021-21446,CVE-2020-6307,CVE-2020-6224,CVE-2021-21445,CVE-2021-21447,CVE-2020-6256,CVE-2020-26816,CVE-2021-21448,CVE-2021-21469,CVE-2021-21449,CVE-2021-21467,CVE-2021-21470,CVE-2021-21477,CVE-2021-21465,CVE-2020-26832,CVE-2021-21446,CVE-2021-21472,CVE-2019-0337,CVE-2021-21444,CVE-2021-21476,CVE-2021-21478,CVE-2019-0388,CVE-2021-21474,CVE-2021-21475,CVE-2020-6207,CVE-2021-21480,CVE-2021-21481,CVE-2021-21484,CVE-2021-21486,CVE-2021-21488,CVE-2021-21487,CVE-2020-6308,CVE-2021-21491,CVE-2021-27592,CVE-2021-27585,CVE-2020-6316,CVE-2021-27596,CVE-2021-27602,CVE-2021-21481,CVE-2021-21482,CVE-2021-21483,CVE-2020-26832,CVE-2021-27608,CVE-2021-21485,CVE-2021-27598,CVE-2021-27603,CVE-2021-27599,CVE-2021-27604,CVE-2021-27600,CVE-2021-27601,CVE-2021-21491,CVE-2021-27609,CVE-2021-21492,CVE-2021-27605,CVE-2021-27602,CVE-2021-21466,CVE-2021-27611,CVE-2021-27616,CVE-2021-27613,CVE-2021-27619,CVE-2021-27617,CVE-2021-21491,CVE-2021-27609,CVE-2021-27612,CVE-2021-27602,CVE-2021-27610,CVE-2021-27635,CVE-2021-27606,CVE-2021-27597,CVE-2021-27607,CVE-2021-33662,CVE-2021-27615,CVE-2021-21473,CVE-2021-21490,CVE-2021-27620,CVE-2021-27637,CVE-2021-33663,CVE-2021-27621,CVE-2021-33664,CVE-2021-33665,CVE-2021-33666,CVE-2021-27638,CVE-2021-27605,CVE-2021-27610,CVE-2021-33671,CVE-2021-33670,CVE-2021-33676,CVE-2021-27604,CVE-2021-33677,CVE-2021-33678,CVE-2021-33682,CVE-2021-33683,CVE-2021-33684,CVE-2021-33687,CVE-2021-33667,CVE-2021-33681,CVE-2021-33689,CVE-2021-33698,CVE-2021-33690,CVE-2021-33701,CVE-2021-33702,CVE-2021-33703,CVE-2021-33705,CVE-2021-33699,CVE-2021-33700,CVE-2021-33691,CVE-2021-33695,CVE-2021-33704,CVE-2021-21473,CVE-2021-33707,CVE-2021-33696,CVE-2021-33697,CVE-2021-37535,CVE-2021-33698,CVE-2021-38176,CVE-2021-38163,CVE-2021-37531,CVE-2021-33672,CVE-2021-38162,CVE-2021-38177,CVE-2021-33685,CVE-2021-38175,CVE-2021-38150,CVE-2021-33679,CVE-2021-38164,CVE-2021-33686,CVE-2021-21489,CVE-2021-33688,CVE-2021-37532,CVE-2021-38174,CVE-2020-10683,CVE-2021-38178,CVE-2021-40498,CVE-2021-40500,CVE-2021-38179,CVE-2021-38180,CVE-2021-38181,CVE-2021-40499,CVE-2020-11023,CVE-2021-38183,CVE-2021-40495,CVE-2021-40497,CVE-2021-40496,CVE-2021-40501,CVE-2021-40502,CVE-2020-6369,CVE-2021-40503,CVE-2021-42062,CVE-2021-38164,CVE-2021-40504,CVE-2021-21341,CVE-2021-44231,CVE-2021-38176,CVE-2021-42064,CVE-2021-42063,CVE-2021-44235,CVE-2021-40498,CVE-2021-44232,CVE-2021-37714,CVE-2021-33683,CVE-2021-42068,CVE-2019-0388,CVE-2021-42061,CVE-2021-44233'"
      ]
     },
     "execution_count": 37,
     "metadata": {},
     "output_type": "execute_result"
    }
   ],
   "source": [
    "result_string_cve"
   ]
  },
  {
   "cell_type": "code",
   "execution_count": 38,
   "id": "d353f320-11f7-47d4-9097-0f4d159d0a2d",
   "metadata": {},
   "outputs": [],
   "source": [
    "# end extract cve_ids"
   ]
  },
  {
   "cell_type": "code",
   "execution_count": 39,
   "id": "0ee96f7c-64ef-461f-9189-1cb9fcb9e36b",
   "metadata": {},
   "outputs": [],
   "source": [
    "### Crear DataFrame de output Sploitscan\n",
    "def dataframeSplotscan(file_json):\n",
    "    data = pd.DataFrame(columns = ['cve_id', 'dateUpdated', 'descriptions', 'product_l', 'epss_l', 'percentile', 'priority_l', 'cweId'])\n",
    "    dict_list = []\n",
    "    sap_sp = pd.read_json(f'{file_json}', typ='series')\n",
    "    for i in sap_sp:\n",
    "        if 'problemTypes' in i['CVE Data']['containers']['cna'].keys():            \n",
    "            if 'cweId' in i['CVE Data']['containers']['cna']['problemTypes'][0]['descriptions'][0].keys():\n",
    "                cweId = i['CVE Data']['containers']['cna']['problemTypes'][0]['descriptions'][0]['cweId']\n",
    "            else:\n",
    "                cweId = i['CVE Data']['containers']['cna']['problemTypes'][0]['descriptions'][0]['description']\n",
    "        else:\n",
    "            cweId = None\n",
    "        if len(i['EPSS Data']['data']) == 1:\n",
    "            epss_l = i['EPSS Data']['data'][0]['epss']\n",
    "            percentile = i['EPSS Data']['data'][0]['percentile']\n",
    "        else:\n",
    "            epss_l = None\n",
    "            percentile = None\n",
    "        if 'datePublished' in i['CVE Data']['cveMetadata']:\n",
    "            datePublished = i['CVE Data']['cveMetadata']['datePublished']\n",
    "        else:\n",
    "            datePublished = None\n",
    "        if 'references' in i['CVE Data']['containers']['cna'].keys():            \n",
    "            note_id = re.findall('[2,3]{1}[0-9]{6}', str(i['CVE Data']['containers']['cna']['references'][0]['url']))\n",
    "        else:\n",
    "            note_id = None\n",
    "        row_list = {'cve_id': i['CVE Data']['cveMetadata']['cveId'],\n",
    "                    #'datePublished': i['CVE Data']['cveMetadata']['datePublished'],\n",
    "                    'datePublished': datePublished,\n",
    "                    'dateUpdated': i['CVE Data']['cveMetadata']['dateUpdated'],\n",
    "                    'descriptions': i['CVE Data']['containers']['cna']['descriptions'][0]['value'],\n",
    "                    'product_l': i['CVE Data']['containers']['cna']['affected'][0]['product'],\n",
    "                    #'epss_l': i['EPSS Data']['data'][0]['epss'],\n",
    "                    #'benchmark': i['VulnCheck Data']['_benchmark'],\n",
    "                    'epss_l': epss_l,\n",
    "                    'percentile': percentile,\n",
    "                    'priority_l': i['Priority']['Priority'],\n",
    "                    'cweId': cweId,\n",
    "                    'note_id': str(note_id)}\n",
    "        dict_list.append(row_list)\n",
    "\n",
    "    data = pd.DataFrame.from_dict(dict_list)\n",
    "    return(data)"
   ]
  },
  {
   "cell_type": "code",
   "execution_count": 40,
   "id": "d353eb05-3c15-4b34-a9ff-c03870745844",
   "metadata": {},
   "outputs": [],
   "source": [
    "#especial 2021 sap notes\n",
    "#sp_sap_cve_2021 = dataframeSplotscan('sap_history_data_curate/sp_2021_last.json')"
   ]
  },
  {
   "cell_type": "code",
   "execution_count": 41,
   "id": "ce8d1d81-4e0e-42c2-807f-179dff563d88",
   "metadata": {},
   "outputs": [],
   "source": [
    "sp_sap_cve_2021 = dataframeSplotscan('sap_history_data_curate/sp_2021_last.json')\n",
    "sp_sap_cve_2021.drop_duplicates(subset=['cve_id'], inplace=True)\n",
    "sp_sap_cve_2022 = dataframeSplotscan('sap_history_data_curate/sp_2022_last.json')\n",
    "sp_sap_cve_2022.drop_duplicates(subset=['cve_id'], inplace=True)\n",
    "sp_sap_cve_2023 = dataframeSplotscan('sap_history_data_curate/sp_2023_last.json')\n",
    "sp_sap_cve_2023.drop_duplicates(subset=['cve_id'], inplace=True)\n",
    "sp_sap_cve_2024 = dataframeSplotscan('sap_history_data_curate/sp_2024_last.json')\n",
    "sp_sap_cve_2024.drop_duplicates(subset=['cve_id'], inplace=True)"
   ]
  },
  {
   "cell_type": "code",
   "execution_count": 42,
   "id": "d0114ae5-17c4-4055-ad41-fae482328b23",
   "metadata": {},
   "outputs": [],
   "source": [
    "cp_sap_cve_2021 = pd.read_csv('sap_history_data_curate/cvep_2021.csv')\n",
    "cp_sap_cve_2022 = pd.read_csv('sap_history_data_curate/cvep_2022.csv')\n",
    "cp_sap_cve_2023 = pd.read_csv('sap_history_data_curate/cvep_2023.csv')\n",
    "cp_sap_cve_2024 = pd.read_csv('sap_history_data_curate/cvep_2024.csv')"
   ]
  },
  {
   "cell_type": "code",
   "execution_count": 43,
   "id": "dc9537c3-ecf3-43de-a34c-c8e88e42fe28",
   "metadata": {},
   "outputs": [],
   "source": [
    "cp_sap_cve_2021.drop_duplicates(subset=['cve_id'], inplace=True)\n",
    "cp_sap_cve_2022.drop_duplicates(subset=['cve_id'], inplace=True)\n",
    "cp_sap_cve_2023.drop_duplicates(subset=['cve_id'], inplace=True)\n",
    "cp_sap_cve_2024.drop_duplicates(subset=['cve_id'], inplace=True)"
   ]
  },
  {
   "cell_type": "code",
   "execution_count": 44,
   "id": "8148fa20-4dbf-4b1b-ba72-e032b972674e",
   "metadata": {},
   "outputs": [],
   "source": [
    "sap_cve_2023 = sap_2023_notes.merge(sp_sap_cve_2023, on=['cve_id'])\n",
    "sap_cve_2023 = sap_cve_2023.merge(cp_sap_cve_2023, on=['cve_id'])\n",
    "sap_cve_2023['sap_note_year'] = '2023'"
   ]
  },
  {
   "cell_type": "code",
   "execution_count": 45,
   "id": "016a79b9-c77c-43b9-ba57-36af5e204565",
   "metadata": {},
   "outputs": [],
   "source": [
    "sap_cve_2022 = sp_sap_cve_2022.merge(sap_2022_notes, on=['cve_id'])\n",
    "sap_cve_2022 = sap_cve_2022.merge(cp_sap_cve_2022, on=['cve_id'])\n",
    "sap_cve_2022['sap_note_year'] = '2022'"
   ]
  },
  {
   "cell_type": "code",
   "execution_count": 46,
   "id": "d1fd930e-509c-4132-9280-5fc30e3902e0",
   "metadata": {},
   "outputs": [],
   "source": [
    "sap_cve_2021 = sp_sap_cve_2021.merge(sap_2021_notes, on=['cve_id'])\n",
    "sap_cve_2021 = sap_cve_2021.merge(cp_sap_cve_2021, on=['cve_id'])\n",
    "sap_cve_2021['sap_note_year'] = '2021'"
   ]
  },
  {
   "cell_type": "code",
   "execution_count": 47,
   "id": "e50353fe-a629-4d45-a300-4fa0d4001010",
   "metadata": {},
   "outputs": [],
   "source": [
    "sap_cve_2024 = sp_sap_cve_2024.merge(sap_2024_notes, on=['cve_id'])\n",
    "sap_cve_2024 = sap_cve_2024.merge(cp_sap_cve_2024, on=['cve_id'])\n",
    "sap_cve_2024['sap_note_year'] = '2024'"
   ]
  },
  {
   "cell_type": "code",
   "execution_count": 48,
   "id": "7169146c-6b85-46d0-ab1c-cd0d54c9d6bb",
   "metadata": {},
   "outputs": [],
   "source": [
    "sap_cve_df = pd.concat([sap_cve_2021,sap_cve_2022,sap_cve_2023,sap_cve_2024])"
   ]
  },
  {
   "cell_type": "code",
   "execution_count": 49,
   "id": "0c57ee69-9a7f-491e-a4f9-94da13894c2f",
   "metadata": {},
   "outputs": [],
   "source": [
    "sap_cve_df.loc[(sap_cve_df['Priority'] == 'Hot') | (sap_cve_df['Priority'] == 'HotNews') | (sap_cve_df['Priority'] == 'Very High'), 'Priority'] = 'Hot News'\n",
    "#sap_cve_df.loc[(sap_cve_df['Priority'] == 'Hot') | (sap_cve_df['Priority'] == 'HotNews'), 'Priority'] = 'Hot News'\n",
    "\n",
    "sap_cve_df.loc[(sap_cve_df['cweId'] == 'Cross-Site Scripting') | (sap_cve_df['cweId'] == 'Cross Site Scripting') | (sap_cve_df['cweId'] == \"Cross-Site Scripting (XSS)\"), 'cweId'] = \"CWE-79\"\n",
    "\n",
    "sap_cve_df.loc[(sap_cve_df['cweId'] == 'Missing Authorization check') | (sap_cve_df['cweId'] == 'Missing Authorization') | (sap_cve_df['cweId'] == 'Missing Authorization Check'), 'cweId'] = \"CWE-862\"\n",
    "\n",
    "sap_cve_df.loc[(sap_cve_df['cve_id'] == 'CVE-2021-21484'),'cweId'] = \"CWE-863\"\n",
    "\n",
    "sap_cve_df.loc[(sap_cve_df['cve_id'] == 'CVE-2023-30533'),'cweId'] = \"CWE-1321\"\n",
    "\n",
    "sap_cve_df.loc[(sap_cve_df['cve_id'] == 'CVE-2022-35737'),'cweId'] = \"CWE-129\"\n",
    "\n",
    "sap_cve_df.loc[(sap_cve_df['cve_id'] == 'CVE-2023-44487'),'cweId'] = \"CWE-400\"\n",
    "\n",
    "sap_cve_df.loc[(sap_cve_df['cve_id'] == 'CVE-2020-6308'),'cweId'] = \"CWE-918\"\n",
    "\n",
    "sap_cve_df.loc[(sap_cve_df['cve_id'] == 'CVE-2020-6207'),'cweId'] = \"CWE-306\"\n",
    "\n",
    "sap_cve_df.loc[(sap_cve_df['cve_id'] == 'CVE-2021-33690'),'cweId'] = \"CWE-918\"\n",
    "\n",
    "sap_cve_df.loc[(sap_cve_df['cve_id'] == 'CVE-2021-38163'),'cweId'] = \"CWE-78\"\n",
    "\n",
    "sap_cve_df.loc[(sap_cve_df['cve_id'] == 'CVE-2021-44235'),'cweId'] = \"CWE-78\"\n",
    "sap_cve_df.loc[(sap_cve_df['cve_id'] == 'CVE-2021-37531'),'cweId'] = \"CWE-78\"\n",
    "\n",
    "sap_cve_df.loc[(sap_cve_df['cve_id'] == 'CVE-2021-33663'),'cweId'] = \"CWE-74\"\n",
    "\n",
    "sap_cve_df.loc[(sap_cve_df['cve_id'] == 'CVE-2024-33007'),'cweId'] = \"CWE-79\"\n",
    "\n",
    "sap_cve_df.loc[(sap_cve_df['cve_id'] == 'CVE-2021-27608'),'cweId'] = \"CWE-428\"\n",
    "\n",
    "sap_cve_df.loc[(sap_cve_df['cve_id'] == 'CVE-2021-27635'),'cweId'] = \"CWE-112\"\n",
    "\n",
    "sap_cve_df.loc[(sap_cve_df['cve_id'] == 'CVE-2021-27635'),'cweId'] = \"CWE-112\"\n",
    "sap_cve_df.loc[(sap_cve_df['cve_id'] == 'CVE-2021-27617'),'cweId'] = \"CWE-112\"\n",
    "\n",
    "sap_cve_df.loc[(sap_cve_df['cve_id'] == 'CVE-2021-40499'),'cweId'] = \"CWE-94\"\n",
    "sap_cve_df.loc[(sap_cve_df['cve_id'] == 'CVEp-2021-27611'),'cweId'] = \"CWE-94\"\n",
    "sap_cve_df.loc[(sap_cve_df['cve_id'] == 'CVE-2021-21466'),'cweId'] = \"CWE-94\"\n",
    "sap_cve_df.loc[(sap_cve_df['cve_id'] == 'CVE-2021-27602'),'cweId'] = \"CWE-94\"\n",
    "sap_cve_df.loc[(sap_cve_df['cve_id'] == 'CVE-2021-44231'),'cweId'] = \"CWE-94\"\n",
    "sap_cve_df.loc[(sap_cve_df['cve_id'] == 'CVE-2021-21480'),'cweId'] = \"CWE-94\"\n",
    "\n",
    "sap_cve_df.loc[(sap_cve_df['cve_id'] == 'CVE-2020-10683'),'cweId'] = \"CWE-611\"\n",
    "\n",
    "sap_cve_df.loc[(sap_cve_df['cve_id'] == 'CVE-2021-21444'),'cweId'] = \"CWE-1021\"\n",
    "\n",
    "sap_cve_df.loc[(sap_cve_df['cve_id'] == 'CVE-2019-17495'),'cweId'] = \"CWE-352\"\n",
    "\n",
    "sap_cve_df.loc[(sap_cve_df['cve_id'] == 'CVE-2021-44151'),'cweId'] = \"CWE-330\"\n",
    "\n",
    "sap_cve_df.loc[(sap_cve_df['cve_id'] == 'CVE-2013-3587'),'cweId'] = 'CWE-200'\n",
    "sap_cve_df.loc[(sap_cve_df['cve_id'] == 'CVE-2019-0388'),'cweId'] = 'CWE-290'\n",
    "sap_cve_df.loc[(sap_cve_df['cve_id'] == 'CVE-2020-26816'),'cweId'] = 'CWE-312'\n",
    "sap_cve_df.loc[(sap_cve_df['cve_id'] == 'CVE-2020-6215'),'cweId'] = 'CWE-601'\n",
    "sap_cve_df.loc[(sap_cve_df['cve_id'] == 'CVE-2020-6224'),'cweId'] = 'CWE-532'\n",
    "sap_cve_df.loc[(sap_cve_df['cve_id'] == 'CVE-2021-21445'),'cweId'] = 'CWE-444'\n",
    "sap_cve_df.loc[(sap_cve_df['cve_id'] == 'CVE-2021-21449'),'cweId'] = 'CWE-119'\n",
    "sap_cve_df.loc[(sap_cve_df['cve_id'] == 'CVE-2021-21465'),'cweId'] = 'CWE-89'\n",
    "sap_cve_df.loc[(sap_cve_df['cve_id'] == 'CVE-2021-21469'),'cweId'] = 'CWE-200'\n",
    "sap_cve_df.loc[(sap_cve_df['cve_id'] == 'CVE-2021-21470'),'cweId'] = 'CWE-611'\n",
    "sap_cve_df.loc[(sap_cve_df['cve_id'] == 'CVE-2021-21472'),'cweId'] = 'CWE-306'\n",
    "sap_cve_df.loc[(sap_cve_df['cve_id'] == 'CVE-2021-21474'),'cweId'] = 'CWE-326'\n",
    "sap_cve_df.loc[(sap_cve_df['cve_id'] == 'CVE-2021-21475'),'cweId'] = 'CWE-22'\n",
    "sap_cve_df.loc[(sap_cve_df['cve_id'] == 'CVE-2021-21476'),'cweId'] = 'CWE-601'\n",
    "sap_cve_df.loc[(sap_cve_df['cve_id'] == 'CVE-2021-21477'),'cweId'] = 'CWE-94'\n",
    "sap_cve_df.loc[(sap_cve_df['cve_id'] == 'CVE-2021-21478'),'cweId'] = 'CWE-601'\n",
    "sap_cve_df.loc[(sap_cve_df['cve_id'] == 'CVE-2021-21488'),'cweId'] = 'CWE-502'\n",
    "sap_cve_df.loc[(sap_cve_df['cve_id'] == 'CVE-2021-21491'),'cweId'] = 'CWE-601'\n",
    "sap_cve_df.loc[(sap_cve_df['cve_id'] == 'CVE-2021-27610'),'cweId'] = 'CWE-287'\n",
    "sap_cve_df.loc[(sap_cve_df['cve_id'] == 'CVE-2021-27612'),'cweId'] = 'CWE-601'\n",
    "sap_cve_df.loc[(sap_cve_df['cve_id'] == 'CVE-2021-27638'),'cweId'] = 'CWE-20'\n",
    "sap_cve_df.loc[(sap_cve_df['cve_id'] == 'CVE-2021-33672'),'cweId'] = 'CWE-116'\n",
    "sap_cve_df.loc[(sap_cve_df['cve_id'] == 'CVE-2021-33676'),'cweId'] = 'CWE-862'\n",
    "sap_cve_df.loc[(sap_cve_df['cve_id'] == 'CVE-2021-33685'),'cweId'] = 'CWE-22'\n",
    "sap_cve_df.loc[(sap_cve_df['cve_id'] == 'CVE-2021-33687'),'cweId'] = 'CWE-200'\n",
    "sap_cve_df.loc[(sap_cve_df['cve_id'] == 'CVE-2021-33688'),'cweId'] = 'CWE-89'\n",
    "sap_cve_df.loc[(sap_cve_df['cve_id'] == 'CVE-2021-38150'),'cweId'] = 'CWE-312'\n",
    "sap_cve_df.loc[(sap_cve_df['cve_id'] == 'CVE-2021-38176'),'cweId'] = 'CWE-89'\n",
    "sap_cve_df.loc[(sap_cve_df['cve_id'] == 'CVE-2021-38177'),'cweId'] = 'CWE-476'\n",
    "sap_cve_df.loc[(sap_cve_df['cve_id'] == 'CVE-2021-40497'),'cweId'] = 'CWE-668'\n",
    "sap_cve_df.loc[(sap_cve_df['cve_id'] == 'CVE-2021-42064'),'cweId'] = 'CWE-89'\n",
    "sap_cve_df.loc[(sap_cve_df['cve_id'] == 'CVE-2021-42068'),'cweId'] = 'CWE-20'\n",
    "sap_cve_df.loc[(sap_cve_df['cve_id'] == 'CVE-2021-44232'),'cweId'] = 'CWE-22'\n",
    "sap_cve_df.loc[(sap_cve_df['cve_id'] == 'CVE-2023-0215'),'cweId'] = 'CWE-416'\n",
    "sap_cve_df.loc[(sap_cve_df['cve_id'] == 'CVE-2020-6369'),'cweId'] = 'CWE-798'\n",
    "sap_cve_df.loc[(sap_cve_df['cve_id'] == 'CVE-2020-13936'),'cweId'] = 'CWE-94'\n",
    "sap_cve_df.loc[(sap_cve_df['cve_id'] == 'CVE-2021-21446'),'cweId'] = 'CWE-400'\n",
    "sap_cve_df.loc[(sap_cve_df['cve_id'] == 'CVE-2021-21482'),'cweId'] = 'CWE-200'\n",
    "sap_cve_df.loc[(sap_cve_df['cve_id'] == 'CVE-2021-21483'),'cweId'] = 'CWE-200'\n",
    "sap_cve_df.loc[(sap_cve_df['cve_id'] == 'CVE-2021-21485'),'cweId'] = 'CWE-200'"
   ]
  },
  {
   "cell_type": "code",
   "execution_count": 50,
   "id": "8b3b85ee-33d2-4a8b-a40c-423e860f04cb",
   "metadata": {},
   "outputs": [],
   "source": [
    "sap_cve_df.to_csv('sap_cve_last_202412_all.csv', index=False)"
   ]
  },
  {
   "cell_type": "code",
   "execution_count": 53,
   "id": "1bf27a11-687f-434f-9aca-6c67033bb534",
   "metadata": {},
   "outputs": [
    {
     "name": "stdout",
     "output_type": "stream",
     "text": [
      "<class 'pandas.core.frame.DataFrame'>\n",
      "Index: 677 entries, 0 to 159\n",
      "Data columns (total 27 columns):\n",
      " #   Column         Non-Null Count  Dtype  \n",
      "---  ------         --------------  -----  \n",
      " 0   cve_id         677 non-null    object \n",
      " 1   datePublished  677 non-null    object \n",
      " 2   dateUpdated    677 non-null    object \n",
      " 3   descriptions   677 non-null    object \n",
      " 4   product_l      677 non-null    object \n",
      " 5   epss_l         677 non-null    object \n",
      " 6   percentile     677 non-null    object \n",
      " 7   priority_l     677 non-null    object \n",
      " 8   cweId          677 non-null    object \n",
      " 9   note_id        677 non-null    object \n",
      " 10  Note#          677 non-null    int64  \n",
      " 11  Title          677 non-null    object \n",
      " 12  Priority       677 non-null    object \n",
      " 13  CVSS           677 non-null    object \n",
      " 14  priority       677 non-null    object \n",
      " 15  epss           677 non-null    float64\n",
      " 16  cvss           677 non-null    float64\n",
      " 17  cvss_version   677 non-null    object \n",
      " 18  cvss_severity  677 non-null    object \n",
      " 19  kev            27 non-null     object \n",
      " 20  ransomware     27 non-null     object \n",
      " 21  kev_source     677 non-null    object \n",
      " 22  cpe            677 non-null    object \n",
      " 23  vendor         610 non-null    object \n",
      " 24  product        610 non-null    object \n",
      " 25  vector         677 non-null    object \n",
      " 26  sap_note_year  677 non-null    object \n",
      "dtypes: float64(2), int64(1), object(24)\n",
      "memory usage: 148.1+ KB\n"
     ]
    }
   ],
   "source": [
    "sap_cve_df.info()"
   ]
  },
  {
   "cell_type": "code",
   "execution_count": 51,
   "id": "094983a1-8ab2-48fe-8860-8692fbc0f0fa",
   "metadata": {},
   "outputs": [
    {
     "data": {
      "text/plain": [
       "407"
      ]
     },
     "execution_count": 51,
     "metadata": {},
     "output_type": "execute_result"
    }
   ],
   "source": [
    "sap_cve_df.loc[(sap_cve_df['Priority'] == 'Medium')]['Priority'].count()"
   ]
  },
  {
   "cell_type": "code",
   "execution_count": null,
   "id": "99e6ce88-ecb4-4d77-ae3b-ce17d4811fb4",
   "metadata": {},
   "outputs": [],
   "source": []
  }
 ],
 "metadata": {
  "kernelspec": {
   "display_name": "Python 3 (ipykernel)",
   "language": "python",
   "name": "python3"
  },
  "language_info": {
   "codemirror_mode": {
    "name": "ipython",
    "version": 3
   },
   "file_extension": ".py",
   "mimetype": "text/x-python",
   "name": "python",
   "nbconvert_exporter": "python",
   "pygments_lexer": "ipython3",
   "version": "3.11.2"
  }
 },
 "nbformat": 4,
 "nbformat_minor": 5
}
