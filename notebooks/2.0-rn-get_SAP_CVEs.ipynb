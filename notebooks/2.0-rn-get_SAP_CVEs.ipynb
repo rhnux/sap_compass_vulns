{
 "cells": [
  {
   "cell_type": "code",
   "execution_count": 1,
   "id": "c415703c-7100-4102-9c27-464c1abed099",
   "metadata": {},
   "outputs": [],
   "source": [
    "import pandas as pd\n",
    "import numpy as np\n",
    "import tabula\n",
    "import re\n",
    "pd.set_option('display.max_rows', 500)"
   ]
  },
  {
   "cell_type": "code",
   "execution_count": 2,
   "id": "6b730361-8a55-41e2-a3ca-97a8e7e3e14d",
   "metadata": {},
   "outputs": [
    {
     "name": "stderr",
     "output_type": "stream",
     "text": [
      "Oct 18, 2024 7:16:20 PM org.apache.pdfbox.pdmodel.font.PDTrueTypeFont <init>\n",
      "WARNING: Using fallback font 'LiberationSans' for 'TimesNewRomanPSMT'\n",
      "Oct 18, 2024 7:16:21 PM org.apache.pdfbox.pdmodel.font.PDTrueTypeFont <init>\n",
      "WARNING: Using fallback font 'LiberationSans' for 'TimesNewRomanPSMT'\n",
      "Oct 18, 2024 7:16:21 PM org.apache.pdfbox.pdmodel.font.PDTrueTypeFont <init>\n",
      "WARNING: Using fallback font 'LiberationSans' for 'TimesNewRomanPSMT'\n",
      "Oct 18, 2024 7:16:21 PM org.apache.pdfbox.pdmodel.font.PDTrueTypeFont <init>\n",
      "WARNING: Using fallback font 'LiberationSans-Bold' for 'TimesNewRomanPS-BoldMT'\n",
      "Oct 18, 2024 7:16:22 PM org.apache.pdfbox.pdmodel.font.PDTrueTypeFont <init>\n",
      "WARNING: Using fallback font 'LiberationSans-Bold' for 'TimesNewRomanPS-BoldMT'\n",
      "Oct 18, 2024 7:16:22 PM org.apache.pdfbox.pdmodel.font.PDTrueTypeFont <init>\n",
      "WARNING: Using fallback font 'LiberationSans' for 'TimesNewRomanPSMT'\n"
     ]
    }
   ],
   "source": [
    "dft_2021 = tabula.read_pdf('2021 Blog.pdf', pages='all', stream=True, pandas_options={'header': None})\n",
    "dft_2022 = tabula.read_pdf('2022 12 Patch Day Blog V9.0.pdf', pages='all', stream=True, pandas_options={'header': None})\n",
    "dft_2023 = tabula.read_pdf('2023 12 Patch Day Blog V2.0 (1).pdf', pages='all', stream=True, pandas_options={'header': None})"
   ]
  },
  {
   "cell_type": "code",
   "execution_count": 3,
   "id": "4fdf22c3-d0c1-4d0c-a8f9-73e7f08a9f0b",
   "metadata": {},
   "outputs": [],
   "source": [
    "def newHeader(xdf):\n",
    "    data_list = []\n",
    "    header = xdf[0].iloc[0]\n",
    "    xdf[0].columns = header\n",
    "    xdf[0] = xdf[0].drop([0])\n",
    "    xdf[0][\"cve_id\"] = xdf[0][\"Title\"].str.extract(r'(CVE-....-\\d+)')\n",
    "    for i in range(0, len(xdf)):\n",
    "        if i == 0:\n",
    "            data = xdf[i].iloc[1:]\n",
    "        else:\n",
    "            data = xdf[i]\n",
    "        if data.shape[1] == header.shape[0]:\n",
    "            data.columns = header\n",
    "            xdf[i][\"cve_id\"] = xdf[i][\"Title\"].str.extract(r'(CVE-....-\\d+)')\n",
    "            data_list.append(data)\n",
    "    return data_list"
   ]
  },
  {
   "cell_type": "code",
   "execution_count": 4,
   "id": "dcdabb4d-1ba3-4eeb-bc3d-42c1b3557bfd",
   "metadata": {},
   "outputs": [],
   "source": [
    "dftt_2021 = newHeader(dft_2021)\n",
    "dftt_2022 = newHeader(dft_2022)\n",
    "dftt_2023 = newHeader(dft_2023)"
   ]
  },
  {
   "cell_type": "code",
   "execution_count": 5,
   "id": "404125ee-bc9c-4dac-89c7-a8b4bd862688",
   "metadata": {},
   "outputs": [],
   "source": [
    "sap_2021 = pd.concat(dftt_2021)\n",
    "sap_2022 = pd.concat(dftt_2022)\n",
    "sap_2023 = pd.concat(dftt_2023)"
   ]
  },
  {
   "cell_type": "code",
   "execution_count": 6,
   "id": "27eeba29-83c9-4497-91ad-903237bdb8d1",
   "metadata": {},
   "outputs": [],
   "source": [
    "# Pandas merge rows in a column 'Title'\n",
    "# https://stackoverflow.com/questions/64141451/pandas-merge-rows-in-a-column\n",
    "def mergeTitle(ydf):\n",
    "    ydf['Title'] = ydf['Title'].astype(str)\n",
    "    blocks = ydf['CVSS'].notna().cumsum()\n",
    "    agg_dict = {col:' '.join if col=='Title' else 'first' for col in ydf}\n",
    "    df_t = ydf.groupby(blocks).agg(agg_dict).reset_index(drop=True)\n",
    "    df_t.dropna(inplace=True)\n",
    "    df_t = df_t[(df_t['Note#'] != 'Note#')]\n",
    "    df_t['Note#'] = df_t['Note#'].astype(int)\n",
    "    df_t.reset_index(drop=True, inplace=True)\n",
    "    return df_t"
   ]
  },
  {
   "cell_type": "code",
   "execution_count": 7,
   "id": "705d2610-e21f-4898-9e7e-c90bc42fc204",
   "metadata": {},
   "outputs": [],
   "source": [
    "sap_2021_notes = mergeTitle(sap_2021)\n",
    "sap_2022_notes = mergeTitle(sap_2022)\n",
    "sap_2023_notes = mergeTitle(sap_2023)"
   ]
  },
  {
   "cell_type": "code",
   "execution_count": 8,
   "id": "8a79ce1d-e407-4205-accd-e9a35b286068",
   "metadata": {},
   "outputs": [],
   "source": [
    "#sap_2023_notes"
   ]
  },
  {
   "cell_type": "code",
   "execution_count": 9,
   "id": "27aa758e-839b-4373-aefb-0974bfc897a8",
   "metadata": {},
   "outputs": [],
   "source": [
    "# SAP Notes 2024\n",
    "#sap_2024_notes = pd.read_csv('sap_notes_2024.csv')"
   ]
  },
  {
   "cell_type": "code",
   "execution_count": 10,
   "id": "55fefcfb-13a1-411c-a400-cf9c7a2abe73",
   "metadata": {},
   "outputs": [],
   "source": [
    "sap_202401 = pd.read_html('https://support.sap.com/en/my-support/knowledge-base/security-notes-news/january-2024.html',\n",
    "                 flavor='html5lib')\n",
    "sap_202402 = pd.read_html('https://support.sap.com/en/my-support/knowledge-base/security-notes-news/february-2024.html',\n",
    "                 flavor='html5lib')\n",
    "sap_202403 = pd.read_html('https://support.sap.com/en/my-support/knowledge-base/security-notes-news/march-2024.html',\n",
    "                 flavor='html5lib')\n",
    "sap_202404 = pd.read_html('https://support.sap.com/en/my-support/knowledge-base/security-notes-news/april-2024.html',\n",
    "                 flavor='html5lib')\n",
    "sap_202405 = pd.read_html('https://support.sap.com/en/my-support/knowledge-base/security-notes-news/may-2024.html',\n",
    "                 flavor='html5lib')\n",
    "sap_202406 = pd.read_html('https://support.sap.com/en/my-support/knowledge-base/security-notes-news/june-2024.html',\n",
    "                 flavor='html5lib')\n",
    "sap_202407 = pd.read_html('https://support.sap.com/en/my-support/knowledge-base/security-notes-news/july-2024.html',\n",
    "                 flavor='html5lib')\n",
    "sap_202408 = pd.read_html('https://support.sap.com/en/my-support/knowledge-base/security-notes-news/august-2024.html',\n",
    "                 flavor='html5lib')\n",
    "sap_202409 = pd.read_html('https://support.sap.com/en/my-support/knowledge-base/security-notes-news/september-2024.html',\n",
    "                 flavor='html5lib')\n",
    "sap_202410 = pd.read_html('https://support.sap.com/en/my-support/knowledge-base/security-notes-news/october-2024.html',\n",
    "                         flavor='html5lib')"
   ]
  },
  {
   "cell_type": "code",
   "execution_count": 11,
   "id": "686a5c3d-9f02-4e66-8871-2aad4791445b",
   "metadata": {},
   "outputs": [
    {
     "data": {
      "text/plain": [
       "[      Note#                                              Title  Priority  CVSS\n",
       " 0   3479478  Update to Security Note released on August 202...  Critical   9.8\n",
       " 1   3523541  [CVE-2022-23302] Multiple vulnerabilities in S...      High   8.0\n",
       " 2   3478615  [CVE-2024-37179] Insecure File Operations vuln...      High   7.7\n",
       " 3   3483344  Update to Security Note released on July 2024 ...      High   7.7\n",
       " 4   3495876  Update to Security Note released on August 202...    Medium   6.5\n",
       " 5   3477359  Update to Security Note released on September ...    Medium   6.0\n",
       " 6   3507545  [CVE-2024-45278] Cross-Site Scripting (XSS) vu...    Medium   5.4\n",
       " 7   3503462  [CVE-2024-47594] Cross-Site Scripting (XSS) vu...    Medium   5.4\n",
       " 8   3520100  [CVE-2024-45277] Prototype Pollution vulnerabi...    Medium   4.3\n",
       " 9   3251893  [CVE-2024-45282] HTTP Verb Tampering in SAP S/...    Medium   4.3\n",
       " 10  3481588  Update to Security Note released on September ...    Medium   4.3\n",
       " 11  3479293  Update to Security Note released on August 202...    Medium   4.3\n",
       " 12  3454858  Update to Security Note released on July 2024 ...    Medium   4.1]"
      ]
     },
     "execution_count": 11,
     "metadata": {},
     "output_type": "execute_result"
    }
   ],
   "source": [
    "sap_202410"
   ]
  },
  {
   "cell_type": "code",
   "execution_count": 12,
   "id": "a5607005-dea9-4370-ba0c-11662ea49320",
   "metadata": {},
   "outputs": [],
   "source": [
    "def etData1(x):\n",
    "    _df = pd.DataFrame(x[0], columns=['Note#', 'Title', 'Severity', 'CVSS'])\n",
    "    _df.rename(columns={'Severity': 'Priority'}, inplace=True)\n",
    "    _df[\"cve_id\"] = _df[\"Title\"].str.extract(r'(CVE-....-\\d+)')\n",
    "    return _df\n",
    "\n",
    "def etData2(x):\n",
    "    _df = pd.DataFrame(x[0], columns=['Note#', 'Title', 'Priority', 'CVSS'])\n",
    "    _df[\"cve_id\"] = _df[\"Title\"].str.extract(r'(CVE-....-\\d+)')\n",
    "    return _df"
   ]
  },
  {
   "cell_type": "code",
   "execution_count": 13,
   "id": "346559e7-65e2-42c2-b4ba-e339db8f3871",
   "metadata": {},
   "outputs": [],
   "source": [
    "sap_202401_df = etData1(sap_202401)\n",
    "sap_202402_df = etData1(sap_202402)\n",
    "sap_202403_df = etData1(sap_202403)\n",
    "sap_202404_df = etData1(sap_202404)\n",
    "sap_202405_df = etData1(sap_202405)\n",
    "sap_202406_df = etData1(sap_202406)\n",
    "sap_202407_df = etData2(sap_202407)\n",
    "sap_202408_df = etData2(sap_202408)\n",
    "sap_202409_df = etData2(sap_202409)\n",
    "sap_202410_df = etData2(sap_202410)"
   ]
  },
  {
   "cell_type": "code",
   "execution_count": 14,
   "id": "a63f9e26-1130-4f32-86d4-1768daf65467",
   "metadata": {},
   "outputs": [],
   "source": [
    "sap_2024_ls = [sap_202401_df,sap_202402_df,sap_202403_df,sap_202404_df,sap_202405_df,sap_202406_df,sap_202407_df,sap_202408_df,sap_202409_df,sap_202410_df]\n",
    "sap_2024_df = pd.concat(sap_2024_ls)"
   ]
  },
  {
   "cell_type": "code",
   "execution_count": 15,
   "id": "5e211b90-c0d8-4189-b33c-2038e8c2907d",
   "metadata": {},
   "outputs": [],
   "source": [
    "sap_2024_notes = sap_2024_df.dropna()\n",
    "#sap_2024_notes = pd.read_csv('sap_notes_2024.csv')"
   ]
  },
  {
   "cell_type": "code",
   "execution_count": null,
   "id": "6994a3e6-e57c-4801-84db-d8e50938009a",
   "metadata": {},
   "outputs": [],
   "source": [
    "# start extract cve_ids string for terminal commands\n",
    "# Mejorar y crear un file para flag del commando.\n",
    "l_sap_cve = sap_2024_notes.cve_id.to_list()"
   ]
  },
  {
   "cell_type": "code",
   "execution_count": null,
   "id": "dd67e9d0-4207-4200-a932-56a464d0fd31",
   "metadata": {},
   "outputs": [],
   "source": [
    "clean_sap_cve = [x for x in l_sap_cve if str(x) != 'nan']"
   ]
  },
  {
   "cell_type": "code",
   "execution_count": null,
   "id": "9cf992b5-ec19-429d-a763-629227abbaf4",
   "metadata": {},
   "outputs": [],
   "source": [
    "#cleanedList"
   ]
  },
  {
   "cell_type": "code",
   "execution_count": null,
   "id": "2b7772a8-34e2-4e20-8a5a-2ffc7f7aca28",
   "metadata": {},
   "outputs": [],
   "source": [
    "string_list = [str(element) for element in clean_sap_cve]\n",
    "delimiter = \",\"\n",
    "result_string_cve = delimiter.join(string_list)"
   ]
  },
  {
   "cell_type": "code",
   "execution_count": null,
   "id": "6143e541-1c8d-494e-ba11-5fca4ecb2452",
   "metadata": {},
   "outputs": [],
   "source": [
    "result_string_cve"
   ]
  },
  {
   "cell_type": "code",
   "execution_count": null,
   "id": "d353f320-11f7-47d4-9097-0f4d159d0a2d",
   "metadata": {},
   "outputs": [],
   "source": [
    "# end extract cve_ids"
   ]
  },
  {
   "cell_type": "code",
   "execution_count": 16,
   "id": "0ee96f7c-64ef-461f-9189-1cb9fcb9e36b",
   "metadata": {},
   "outputs": [],
   "source": [
    "### Crear DataFrame de output Sploitscan\n",
    "def dataframeSplotscan(file_json):\n",
    "    data = pd.DataFrame(columns = ['cve_id', 'dateUpdated', 'descriptions', 'product_l', 'epss_l', 'percentile', 'priority_l', 'cweId'])\n",
    "    dict_list = []\n",
    "    sap_sp = pd.read_json(f'{file_json}', typ='series')\n",
    "    for i in sap_sp:\n",
    "        if 'problemTypes' in i['CVE Data']['containers']['cna'].keys():            \n",
    "            if 'cweId' in i['CVE Data']['containers']['cna']['problemTypes'][0]['descriptions'][0].keys():\n",
    "                cweId = i['CVE Data']['containers']['cna']['problemTypes'][0]['descriptions'][0]['cweId']\n",
    "            else:\n",
    "                cweId = i['CVE Data']['containers']['cna']['problemTypes'][0]['descriptions'][0]['description']\n",
    "        else:\n",
    "            cweId = None\n",
    "        if len(i['EPSS Data']['data']) == 1:\n",
    "            epss_l = i['EPSS Data']['data'][0]['epss']\n",
    "            percentile = i['EPSS Data']['data'][0]['percentile']\n",
    "        else:\n",
    "            epss_l = None\n",
    "            percentile = None\n",
    "        if 'datePublished' in i['CVE Data']['cveMetadata']:\n",
    "            datePublished = i['CVE Data']['cveMetadata']['datePublished']\n",
    "        else:\n",
    "            datePublished = None\n",
    "        if 'references' in i['CVE Data']['containers']['cna'].keys():            \n",
    "            note_id = re.findall('[2,3]{1}[0-9]{6}', str(i['CVE Data']['containers']['cna']['references'][0]['url']))\n",
    "        else:\n",
    "            note_id = None\n",
    "        row_list = {'cve_id': i['CVE Data']['cveMetadata']['cveId'],\n",
    "                    #'datePublished': i['CVE Data']['cveMetadata']['datePublished'],\n",
    "                    'datePublished': datePublished,\n",
    "                    'dateUpdated': i['CVE Data']['cveMetadata']['dateUpdated'],\n",
    "                    'descriptions': i['CVE Data']['containers']['cna']['descriptions'][0]['value'],\n",
    "                    'product_l': i['CVE Data']['containers']['cna']['affected'][0]['product'],\n",
    "                    #'epss_l': i['EPSS Data']['data'][0]['epss'],\n",
    "                    #'benchmark': i['VulnCheck Data']['_benchmark'],\n",
    "                    'epss_l': epss_l,\n",
    "                    'percentile': percentile,\n",
    "                    'priority_l': i['Priority']['Priority'],\n",
    "                    'cweId': cweId,\n",
    "                    'note_id': str(note_id)}\n",
    "        dict_list.append(row_list)\n",
    "\n",
    "    data = pd.DataFrame.from_dict(dict_list)\n",
    "    return(data)"
   ]
  },
  {
   "cell_type": "code",
   "execution_count": 17,
   "id": "d353eb05-3c15-4b34-a9ff-c03870745844",
   "metadata": {},
   "outputs": [],
   "source": [
    "#especial 2021 sap notes\n",
    "#sp_sap_cve_2021 = dataframeSplotscan('sap_history_data_curate/sp_2021_last.json')"
   ]
  },
  {
   "cell_type": "code",
   "execution_count": 18,
   "id": "ce8d1d81-4e0e-42c2-807f-179dff563d88",
   "metadata": {},
   "outputs": [],
   "source": [
    "sp_sap_cve_2021 = dataframeSplotscan('sap_history_data_curate/sp_2021_last.json')\n",
    "sp_sap_cve_2021.drop_duplicates(subset=['cve_id'], inplace=True)\n",
    "sp_sap_cve_2022 = dataframeSplotscan('sap_history_data_curate/sp_2022_last.json')\n",
    "sp_sap_cve_2022.drop_duplicates(subset=['cve_id'], inplace=True)\n",
    "sp_sap_cve_2023 = dataframeSplotscan('sap_history_data_curate/sp_2023_last.json')\n",
    "sp_sap_cve_2023.drop_duplicates(subset=['cve_id'], inplace=True)\n",
    "#sp_sap_cve_2024 = dataframeSplotscan('sap_history/sp_sap_2024.json')\n",
    "sp_sap_cve_2024 = dataframeSplotscan('sap_history_data_curate/sp_2024_new.json')\n",
    "sp_sap_cve_2024.drop_duplicates(subset=['cve_id'], inplace=True)"
   ]
  },
  {
   "cell_type": "code",
   "execution_count": 19,
   "id": "d0114ae5-17c4-4055-ad41-fae482328b23",
   "metadata": {},
   "outputs": [],
   "source": [
    "cp_sap_cve_2021 = pd.read_csv('sap_history_data_curate/sap_2021_clean.csv')\n",
    "cp_sap_cve_2022 = pd.read_csv('sap_history_data_curate/sap_2022_clean.csv')\n",
    "cp_sap_cve_2023 = pd.read_csv('sap_history_data_curate/sap_2023_clean.csv')\n",
    "#cp_sap_cve_2024 = pd.read_csv('sap_history_data_curate/cveprio_sap_2024.csv')\n",
    "cp_sap_cve_2024 = pd.read_csv('sap_history_data_curate/sap_202410.csv')"
   ]
  },
  {
   "cell_type": "code",
   "execution_count": 20,
   "id": "dc9537c3-ecf3-43de-a34c-c8e88e42fe28",
   "metadata": {},
   "outputs": [],
   "source": [
    "cp_sap_cve_2021.drop_duplicates(subset=['cve_id'], inplace=True)\n",
    "cp_sap_cve_2022.drop_duplicates(subset=['cve_id'], inplace=True)\n",
    "cp_sap_cve_2023.drop_duplicates(subset=['cve_id'], inplace=True)\n",
    "cp_sap_cve_2024.drop_duplicates(subset=['cve_id'], inplace=True)"
   ]
  },
  {
   "cell_type": "code",
   "execution_count": 21,
   "id": "8148fa20-4dbf-4b1b-ba72-e032b972674e",
   "metadata": {},
   "outputs": [],
   "source": [
    "sap_cve_2023 = sap_2023_notes.merge(sp_sap_cve_2023, on=['cve_id'])\n",
    "sap_cve_2023 = sap_cve_2023.merge(cp_sap_cve_2023, on=['cve_id'])\n",
    "sap_cve_2023['sap_note_year'] = '2023'"
   ]
  },
  {
   "cell_type": "code",
   "execution_count": 22,
   "id": "016a79b9-c77c-43b9-ba57-36af5e204565",
   "metadata": {},
   "outputs": [],
   "source": [
    "sap_cve_2022 = sp_sap_cve_2022.merge(sap_2022_notes, on=['cve_id'])\n",
    "sap_cve_2022 = sap_cve_2022.merge(cp_sap_cve_2022, on=['cve_id'])\n",
    "sap_cve_2022['sap_note_year'] = '2022'"
   ]
  },
  {
   "cell_type": "code",
   "execution_count": 23,
   "id": "d1fd930e-509c-4132-9280-5fc30e3902e0",
   "metadata": {},
   "outputs": [],
   "source": [
    "sap_cve_2021 = sp_sap_cve_2021.merge(sap_2021_notes, on=['cve_id'])\n",
    "sap_cve_2021 = sap_cve_2021.merge(cp_sap_cve_2021, on=['cve_id'])\n",
    "sap_cve_2021['sap_note_year'] = '2021'"
   ]
  },
  {
   "cell_type": "code",
   "execution_count": 24,
   "id": "e50353fe-a629-4d45-a300-4fa0d4001010",
   "metadata": {},
   "outputs": [],
   "source": [
    "sap_cve_2024 = sp_sap_cve_2024.merge(sap_2024_notes, on=['cve_id'])\n",
    "sap_cve_2024 = sap_cve_2024.merge(cp_sap_cve_2024, on=['cve_id'])\n",
    "sap_cve_2024['sap_note_year'] = '2024'"
   ]
  },
  {
   "cell_type": "code",
   "execution_count": 25,
   "id": "c9aadaf3-dec1-4c4d-bef8-c056c4bedb9f",
   "metadata": {},
   "outputs": [],
   "source": [
    "#sap_2024_notes.info()"
   ]
  },
  {
   "cell_type": "code",
   "execution_count": 26,
   "id": "baf5411a-8a6e-4c86-b982-b8e8ff9f0fe9",
   "metadata": {},
   "outputs": [],
   "source": [
    "#sap_cve_2024.info()"
   ]
  },
  {
   "cell_type": "code",
   "execution_count": 27,
   "id": "61cdcaf1-5ba1-41cc-bce6-490678c26ae9",
   "metadata": {},
   "outputs": [],
   "source": [
    "#sap_cve_2024"
   ]
  },
  {
   "cell_type": "code",
   "execution_count": 28,
   "id": "7169146c-6b85-46d0-ab1c-cd0d54c9d6bb",
   "metadata": {},
   "outputs": [],
   "source": [
    "sap_cve_df = pd.concat([sap_cve_2021,sap_cve_2022,sap_cve_2023,sap_cve_2024])"
   ]
  },
  {
   "cell_type": "code",
   "execution_count": 29,
   "id": "959dbcca-2cbb-4f2b-8ed6-756c435de926",
   "metadata": {},
   "outputs": [],
   "source": [
    "#sap_cve_df['epss'] = sap_cve_df['epss'].map(lambda x: x * 100).astype('float').round(2)"
   ]
  },
  {
   "cell_type": "code",
   "execution_count": 30,
   "id": "a18bb720-5978-4c63-9744-21a416ee2312",
   "metadata": {},
   "outputs": [],
   "source": [
    "#sap_cve_df['cveInfo'] = sap_cve_df['cve_id'].apply(lambda x: x.replace(f'{x}', f'https://www.cvedetails.com/cve/{x}/'))"
   ]
  },
  {
   "cell_type": "code",
   "execution_count": 31,
   "id": "958503ea-f6bd-4e03-8dbc-28572471e117",
   "metadata": {},
   "outputs": [],
   "source": [
    "#sap_cve_df.drop_duplicates(subset=['Note#'], inplace=True)"
   ]
  },
  {
   "cell_type": "code",
   "execution_count": 32,
   "id": "3b47c719-ebd6-4d47-85f8-c12f60cde8c6",
   "metadata": {},
   "outputs": [],
   "source": [
    "sap_cve_df.loc[(sap_cve_df['Priority'] == 'Hot') | (sap_cve_df['Priority'] == 'HotNews') | (sap_cve_df['Priority'] == 'Very High'), 'Priority'] = 'Hot News'\n",
    "#sap_cve_df.loc[(sap_cve_df['Priority'] == 'Hot') | (sap_cve_df['Priority'] == 'HotNews'), 'Priority'] = 'Hot News'"
   ]
  },
  {
   "cell_type": "code",
   "execution_count": 33,
   "id": "cae61325-4c92-4a36-9ef0-2a8a5d277f39",
   "metadata": {},
   "outputs": [],
   "source": [
    "sap_cve_df.loc[(sap_cve_df['cweId'] == 'Cross-Site Scripting') | (sap_cve_df['cweId'] == 'Cross Site Scripting') | (sap_cve_df['cweId'] == \"Cross-Site Scripting (XSS)\"), 'cweId'] = \"CWE-79\""
   ]
  },
  {
   "cell_type": "code",
   "execution_count": 34,
   "id": "7de39e0a-283c-422e-906e-4cb980998158",
   "metadata": {},
   "outputs": [],
   "source": [
    "sap_cve_df.loc[(sap_cve_df['cweId'] == 'Missing Authorization check') | (sap_cve_df['cweId'] == 'Missing Authorization') | (sap_cve_df['cweId'] == 'Missing Authorization Check'), 'cweId'] = \"CWE-862\""
   ]
  },
  {
   "cell_type": "code",
   "execution_count": 35,
   "id": "6adc6732-04ab-4fb5-951a-f0c35aa9f116",
   "metadata": {},
   "outputs": [],
   "source": [
    "sap_cve_df.loc[(sap_cve_df['cve_id'] == 'CVE-2021-21484'),'cweId'] = \"CWE-863\""
   ]
  },
  {
   "cell_type": "code",
   "execution_count": 36,
   "id": "53e14a71-aa2e-4b88-a964-e735af3d7d9e",
   "metadata": {},
   "outputs": [],
   "source": [
    "sap_cve_df.loc[(sap_cve_df['cve_id'] == 'CVE-2023-30533'),'cweId'] = \"CWE-1321\""
   ]
  },
  {
   "cell_type": "code",
   "execution_count": 37,
   "id": "13572a35-dc45-4aa9-810f-9f2196db394e",
   "metadata": {},
   "outputs": [],
   "source": [
    "sap_cve_df.loc[(sap_cve_df['cve_id'] == 'CVE-2022-35737'),'cweId'] = \"CWE-129\""
   ]
  },
  {
   "cell_type": "code",
   "execution_count": 38,
   "id": "fefd5409-573f-4a23-a775-7f7c0fbf09f4",
   "metadata": {},
   "outputs": [],
   "source": [
    "sap_cve_df.loc[(sap_cve_df['cve_id'] == 'CVE-2023-44487'),'cweId'] = \"CWE-400\""
   ]
  },
  {
   "cell_type": "code",
   "execution_count": 39,
   "id": "d583b335-e77c-4b17-8f23-1a2fbf6652ac",
   "metadata": {},
   "outputs": [],
   "source": [
    "sap_cve_df.loc[(sap_cve_df['cve_id'] == 'CVE-2020-6308'),'cweId'] = \"CWE-918\""
   ]
  },
  {
   "cell_type": "code",
   "execution_count": 40,
   "id": "78c76c9c-b862-4bad-b808-d3ee0600b5cf",
   "metadata": {},
   "outputs": [],
   "source": [
    "sap_cve_df.loc[(sap_cve_df['cve_id'] == 'CVE-2020-6207'),'cweId'] = \"CWE-306\""
   ]
  },
  {
   "cell_type": "code",
   "execution_count": 41,
   "id": "3c0560a7-c48e-49a7-829d-e2270a983f1a",
   "metadata": {},
   "outputs": [],
   "source": [
    "sap_cve_df.loc[(sap_cve_df['cve_id'] == 'CVE-2021-33690'),'cweId'] = \"CWE-918\""
   ]
  },
  {
   "cell_type": "code",
   "execution_count": 42,
   "id": "0b3caee3-5cf7-4e95-8fd1-a124d744f2af",
   "metadata": {},
   "outputs": [],
   "source": [
    "sap_cve_df.loc[(sap_cve_df['cve_id'] == 'CVE-2021-38163'),'cweId'] = \"CWE-78\""
   ]
  },
  {
   "cell_type": "code",
   "execution_count": 43,
   "id": "b0dea6f3-2501-456b-a070-1ec9855f8be5",
   "metadata": {},
   "outputs": [],
   "source": [
    "sap_cve_df.loc[(sap_cve_df['cve_id'] == 'CVE-2021-44235'),'cweId'] = \"CWE-78\"\n",
    "sap_cve_df.loc[(sap_cve_df['cve_id'] == 'CVE-2021-37531'),'cweId'] = \"CWE-78\""
   ]
  },
  {
   "cell_type": "code",
   "execution_count": 44,
   "id": "c8b0dd68-6e43-44af-bb8e-e6dfbb28d205",
   "metadata": {},
   "outputs": [],
   "source": [
    "sap_cve_df.loc[(sap_cve_df['cve_id'] == 'CVE-2021-33663'),'cweId'] = \"CWE-74\""
   ]
  },
  {
   "cell_type": "code",
   "execution_count": 45,
   "id": "65b16fb1-f5fd-4181-9a87-001ce911b6da",
   "metadata": {},
   "outputs": [],
   "source": [
    "sap_cve_df.loc[(sap_cve_df['cve_id'] == 'CVE-2024-33007'),'cweId'] = \"CWE-79\""
   ]
  },
  {
   "cell_type": "code",
   "execution_count": 46,
   "id": "d9a3c549-375f-48b8-b54f-c84195c74fc5",
   "metadata": {},
   "outputs": [],
   "source": [
    "sap_cve_df.loc[(sap_cve_df['cve_id'] == 'CVE-2021-27608'),'cweId'] = \"CWE-428\""
   ]
  },
  {
   "cell_type": "code",
   "execution_count": 47,
   "id": "7d7d703a-989a-4ff8-afa2-a805c77202d4",
   "metadata": {},
   "outputs": [],
   "source": [
    "sap_cve_df.loc[(sap_cve_df['cve_id'] == 'CVE-2021-27635'),'cweId'] = \"CWE-112\""
   ]
  },
  {
   "cell_type": "code",
   "execution_count": 48,
   "id": "7b1d6392-f965-4e21-b722-b8f83abd0ec8",
   "metadata": {},
   "outputs": [],
   "source": [
    "sap_cve_df.loc[(sap_cve_df['cve_id'] == 'CVE-2021-27635'),'cweId'] = \"CWE-112\"\n",
    "sap_cve_df.loc[(sap_cve_df['cve_id'] == 'CVE-2021-27617'),'cweId'] = \"CWE-112\""
   ]
  },
  {
   "cell_type": "code",
   "execution_count": 49,
   "id": "61aafa9a-362f-4dc8-87a3-79a3bfcf489a",
   "metadata": {},
   "outputs": [],
   "source": [
    "sap_cve_df.loc[(sap_cve_df['cve_id'] == 'CVE-2021-40499'),'cweId'] = \"CWE-94\"\n",
    "sap_cve_df.loc[(sap_cve_df['cve_id'] == 'CVE-2021-27611'),'cweId'] = \"CWE-94\"\n",
    "sap_cve_df.loc[(sap_cve_df['cve_id'] == 'CVE-2021-21466'),'cweId'] = \"CWE-94\"\n",
    "sap_cve_df.loc[(sap_cve_df['cve_id'] == 'CVE-2021-27602'),'cweId'] = \"CWE-94\"\n",
    "sap_cve_df.loc[(sap_cve_df['cve_id'] == 'CVE-2021-44231'),'cweId'] = \"CWE-94\"\n",
    "sap_cve_df.loc[(sap_cve_df['cve_id'] == 'CVE-2021-21480'),'cweId'] = \"CWE-94\""
   ]
  },
  {
   "cell_type": "code",
   "execution_count": 50,
   "id": "c24142c9-6ec8-4b43-9d7b-f0b17467489e",
   "metadata": {},
   "outputs": [],
   "source": [
    "sap_cve_df.loc[(sap_cve_df['cve_id'] == 'CVE-2020-10683'),'cweId'] = \"CWE-611\""
   ]
  },
  {
   "cell_type": "code",
   "execution_count": 51,
   "id": "19affe5c-337a-4a7d-9961-816a7a3d6a9a",
   "metadata": {},
   "outputs": [],
   "source": [
    "sap_cve_df.loc[(sap_cve_df['cve_id'] == 'CVE-2021-21444'),'cweId'] = \"CWE-1021\""
   ]
  },
  {
   "cell_type": "code",
   "execution_count": 52,
   "id": "87dca2c1-fd9c-47a5-935e-64e76bade1ad",
   "metadata": {},
   "outputs": [],
   "source": [
    "sap_cve_df.loc[(sap_cve_df['cve_id'] == 'CVE-2019-17495'),'cweId'] = \"CWE-352\""
   ]
  },
  {
   "cell_type": "code",
   "execution_count": 53,
   "id": "c00a6b18-800d-4a48-8773-bf4441239fc3",
   "metadata": {},
   "outputs": [],
   "source": [
    "sap_cve_df.loc[(sap_cve_df['cve_id'] == 'CVE-2021-44151'),'cweId'] = \"CWE-330\""
   ]
  },
  {
   "cell_type": "code",
   "execution_count": 54,
   "id": "6a2ed816-7708-40a0-9df8-f18aadaeb0b1",
   "metadata": {},
   "outputs": [],
   "source": [
    "sap_cve_df.loc[(sap_cve_df['cve_id'] == 'CVE-2013-3587'),'cweId'] = 'CWE-200'\n",
    "sap_cve_df.loc[(sap_cve_df['cve_id'] == 'CVE-2019-0388'),'cweId'] = 'CWE-290'\n",
    "sap_cve_df.loc[(sap_cve_df['cve_id'] == 'CVE-2020-26816'),'cweId'] = 'CWE-312'\n",
    "sap_cve_df.loc[(sap_cve_df['cve_id'] == 'CVE-2020-6215'),'cweId'] = 'CWE-601'\n",
    "sap_cve_df.loc[(sap_cve_df['cve_id'] == 'CVE-2020-6224'),'cweId'] = 'CWE-532'\n",
    "sap_cve_df.loc[(sap_cve_df['cve_id'] == 'CVE-2021-21445'),'cweId'] = 'CWE-444'\n",
    "sap_cve_df.loc[(sap_cve_df['cve_id'] == 'CVE-2021-21449'),'cweId'] = 'CWE-119'\n",
    "sap_cve_df.loc[(sap_cve_df['cve_id'] == 'CVE-2021-21465'),'cweId'] = 'CWE-89'\n",
    "sap_cve_df.loc[(sap_cve_df['cve_id'] == 'CVE-2021-21469'),'cweId'] = 'CWE-200'\n",
    "sap_cve_df.loc[(sap_cve_df['cve_id'] == 'CVE-2021-21470'),'cweId'] = 'CWE-611'\n",
    "sap_cve_df.loc[(sap_cve_df['cve_id'] == 'CVE-2021-21472'),'cweId'] = 'CWE-306'\n",
    "sap_cve_df.loc[(sap_cve_df['cve_id'] == 'CVE-2021-21474'),'cweId'] = 'CWE-326'\n",
    "sap_cve_df.loc[(sap_cve_df['cve_id'] == 'CVE-2021-21475'),'cweId'] = 'CWE-22'\n",
    "sap_cve_df.loc[(sap_cve_df['cve_id'] == 'CVE-2021-21476'),'cweId'] = 'CWE-601'\n",
    "sap_cve_df.loc[(sap_cve_df['cve_id'] == 'CVE-2021-21477'),'cweId'] = 'CWE-94'\n",
    "sap_cve_df.loc[(sap_cve_df['cve_id'] == 'CVE-2021-21478'),'cweId'] = 'CWE-601'\n",
    "sap_cve_df.loc[(sap_cve_df['cve_id'] == 'CVE-2021-21488'),'cweId'] = 'CWE-502'\n",
    "sap_cve_df.loc[(sap_cve_df['cve_id'] == 'CVE-2021-21491'),'cweId'] = 'CWE-601'\n",
    "sap_cve_df.loc[(sap_cve_df['cve_id'] == 'CVE-2021-27610'),'cweId'] = 'CWE-287'\n",
    "sap_cve_df.loc[(sap_cve_df['cve_id'] == 'CVE-2021-27612'),'cweId'] = 'CWE-601'\n",
    "sap_cve_df.loc[(sap_cve_df['cve_id'] == 'CVE-2021-27638'),'cweId'] = 'CWE-20'\n",
    "sap_cve_df.loc[(sap_cve_df['cve_id'] == 'CVE-2021-33672'),'cweId'] = 'CWE-116'\n",
    "sap_cve_df.loc[(sap_cve_df['cve_id'] == 'CVE-2021-33676'),'cweId'] = 'CWE-862'\n",
    "sap_cve_df.loc[(sap_cve_df['cve_id'] == 'CVE-2021-33685'),'cweId'] = 'CWE-22'\n",
    "sap_cve_df.loc[(sap_cve_df['cve_id'] == 'CVE-2021-33687'),'cweId'] = 'CWE-200'\n",
    "sap_cve_df.loc[(sap_cve_df['cve_id'] == 'CVE-2021-33688'),'cweId'] = 'CWE-89'\n",
    "sap_cve_df.loc[(sap_cve_df['cve_id'] == 'CVE-2021-38150'),'cweId'] = 'CWE-312'\n",
    "sap_cve_df.loc[(sap_cve_df['cve_id'] == 'CVE-2021-38176'),'cweId'] = 'CWE-89'\n",
    "sap_cve_df.loc[(sap_cve_df['cve_id'] == 'CVE-2021-38177'),'cweId'] = 'CWE-476'\n",
    "sap_cve_df.loc[(sap_cve_df['cve_id'] == 'CVE-2021-40497'),'cweId'] = 'CWE-668'\n",
    "sap_cve_df.loc[(sap_cve_df['cve_id'] == 'CVE-2021-42064'),'cweId'] = 'CWE-89'\n",
    "sap_cve_df.loc[(sap_cve_df['cve_id'] == 'CVE-2021-42068'),'cweId'] = 'CWE-20'\n",
    "sap_cve_df.loc[(sap_cve_df['cve_id'] == 'CVE-2021-44232'),'cweId'] = 'CWE-22'\n",
    "sap_cve_df.loc[(sap_cve_df['cve_id'] == 'CVE-2023-0215'),'cweId'] = 'CWE-416'"
   ]
  },
  {
   "cell_type": "code",
   "execution_count": 55,
   "id": "c2c777e4-7e94-4a4d-94c7-f461c256e467",
   "metadata": {},
   "outputs": [],
   "source": [
    "#sap_cve_df.loc[(sap_cve_df['cve_id'] == 'CVE-2021-33690')]"
   ]
  },
  {
   "cell_type": "code",
   "execution_count": 56,
   "id": "8b3b85ee-33d2-4a8b-a40c-423e860f04cb",
   "metadata": {},
   "outputs": [],
   "source": [
    "sap_cve_df.to_csv('sap_cve_last_05.csv', index=False)"
   ]
  },
  {
   "cell_type": "code",
   "execution_count": 57,
   "id": "094983a1-8ab2-48fe-8860-8692fbc0f0fa",
   "metadata": {},
   "outputs": [
    {
     "data": {
      "text/plain": [
       "90"
      ]
     },
     "execution_count": 57,
     "metadata": {},
     "output_type": "execute_result"
    }
   ],
   "source": [
    "sap_cve_df.loc[(sap_cve_df['Priority'] == 'Hot News')]['Priority'].count()"
   ]
  },
  {
   "cell_type": "code",
   "execution_count": null,
   "id": "cdd96326-f78f-4835-9b1e-6f2c46245cd3",
   "metadata": {},
   "outputs": [],
   "source": []
  }
 ],
 "metadata": {
  "kernelspec": {
   "display_name": "Python 3 (ipykernel)",
   "language": "python",
   "name": "python3"
  },
  "language_info": {
   "codemirror_mode": {
    "name": "ipython",
    "version": 3
   },
   "file_extension": ".py",
   "mimetype": "text/x-python",
   "name": "python",
   "nbconvert_exporter": "python",
   "pygments_lexer": "ipython3",
   "version": "3.11.2"
  }
 },
 "nbformat": 4,
 "nbformat_minor": 5
}
