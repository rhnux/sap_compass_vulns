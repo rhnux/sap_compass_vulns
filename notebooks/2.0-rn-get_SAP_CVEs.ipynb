{
 "cells": [
  {
   "cell_type": "code",
   "execution_count": 1,
   "id": "c415703c-7100-4102-9c27-464c1abed099",
   "metadata": {},
   "outputs": [],
   "source": [
    "import pandas as pd\n",
    "import numpy as np\n",
    "import tabula\n",
    "import re\n",
    "pd.set_option('display.max_rows', 500)"
   ]
  },
  {
   "cell_type": "code",
   "execution_count": 2,
   "id": "6b730361-8a55-41e2-a3ca-97a8e7e3e14d",
   "metadata": {},
   "outputs": [
    {
     "name": "stderr",
     "output_type": "stream",
     "text": [
      "Sep 26, 2024 12:42:06 AM org.apache.pdfbox.pdmodel.font.PDTrueTypeFont <init>\n",
      "WARNING: Using fallback font 'LiberationSans' for 'TimesNewRomanPSMT'\n",
      "Sep 26, 2024 12:42:06 AM org.apache.pdfbox.pdmodel.font.PDTrueTypeFont <init>\n",
      "WARNING: Using fallback font 'LiberationSans' for 'TimesNewRomanPSMT'\n",
      "Sep 26, 2024 12:42:07 AM org.apache.pdfbox.pdmodel.font.PDTrueTypeFont <init>\n",
      "WARNING: Using fallback font 'LiberationSans' for 'TimesNewRomanPSMT'\n",
      "Sep 26, 2024 12:42:07 AM org.apache.pdfbox.pdmodel.font.PDTrueTypeFont <init>\n",
      "WARNING: Using fallback font 'LiberationSans-Bold' for 'TimesNewRomanPS-BoldMT'\n",
      "Sep 26, 2024 12:42:07 AM org.apache.pdfbox.pdmodel.font.PDTrueTypeFont <init>\n",
      "WARNING: Using fallback font 'LiberationSans-Bold' for 'TimesNewRomanPS-BoldMT'\n",
      "Sep 26, 2024 12:42:07 AM org.apache.pdfbox.pdmodel.font.PDTrueTypeFont <init>\n",
      "WARNING: Using fallback font 'LiberationSans' for 'TimesNewRomanPSMT'\n"
     ]
    }
   ],
   "source": [
    "dft_2021 = tabula.read_pdf('2021 Blog.pdf', pages='all', stream=True, pandas_options={'header': None})\n",
    "dft_2022 = tabula.read_pdf('2022 12 Patch Day Blog V9.0.pdf', pages='all', stream=True, pandas_options={'header': None})\n",
    "dft_2023 = tabula.read_pdf('2023 12 Patch Day Blog V2.0 (1).pdf', pages='all', stream=True, pandas_options={'header': None})"
   ]
  },
  {
   "cell_type": "code",
   "execution_count": 3,
   "id": "4fdf22c3-d0c1-4d0c-a8f9-73e7f08a9f0b",
   "metadata": {},
   "outputs": [],
   "source": [
    "def newHeader(xdf):\n",
    "    data_list = []\n",
    "    header = xdf[0].iloc[0]\n",
    "    xdf[0].columns = header\n",
    "    xdf[0] = xdf[0].drop([0])\n",
    "    xdf[0][\"cve_id\"] = xdf[0][\"Title\"].str.extract(r'(CVE-....-\\d+)')\n",
    "    for i in range(0, len(xdf)):\n",
    "        if i == 0:\n",
    "            data = xdf[i].iloc[1:]\n",
    "        else:\n",
    "            data = xdf[i]\n",
    "        if data.shape[1] == header.shape[0]:\n",
    "            data.columns = header\n",
    "            xdf[i][\"cve_id\"] = xdf[i][\"Title\"].str.extract(r'(CVE-....-\\d+)')\n",
    "            data_list.append(data)\n",
    "    return data_list"
   ]
  },
  {
   "cell_type": "code",
   "execution_count": 4,
   "id": "dcdabb4d-1ba3-4eeb-bc3d-42c1b3557bfd",
   "metadata": {},
   "outputs": [],
   "source": [
    "dftt_2021 = newHeader(dft_2021)\n",
    "dftt_2022 = newHeader(dft_2022)\n",
    "dftt_2023 = newHeader(dft_2023)"
   ]
  },
  {
   "cell_type": "code",
   "execution_count": 5,
   "id": "404125ee-bc9c-4dac-89c7-a8b4bd862688",
   "metadata": {},
   "outputs": [],
   "source": [
    "sap_2021 = pd.concat(dftt_2021)\n",
    "sap_2022 = pd.concat(dftt_2022)\n",
    "sap_2023 = pd.concat(dftt_2023)"
   ]
  },
  {
   "cell_type": "code",
   "execution_count": 6,
   "id": "27eeba29-83c9-4497-91ad-903237bdb8d1",
   "metadata": {},
   "outputs": [],
   "source": [
    "# Pandas merge rows in a column 'Title'\n",
    "# https://stackoverflow.com/questions/64141451/pandas-merge-rows-in-a-column\n",
    "def mergeTitle(ydf):\n",
    "    ydf['Title'] = ydf['Title'].astype(str)\n",
    "    blocks = ydf['CVSS'].notna().cumsum()\n",
    "    agg_dict = {col:' '.join if col=='Title' else 'first' for col in ydf}\n",
    "    df_t = ydf.groupby(blocks).agg(agg_dict).reset_index(drop=True)\n",
    "    df_t.dropna(inplace=True)\n",
    "    df_t = df_t[(df_t['Note#'] != 'Note#')]\n",
    "    df_t['Note#'] = df_t['Note#'].astype(int)\n",
    "    df_t.reset_index(drop=True, inplace=True)\n",
    "    return df_t"
   ]
  },
  {
   "cell_type": "code",
   "execution_count": 7,
   "id": "705d2610-e21f-4898-9e7e-c90bc42fc204",
   "metadata": {},
   "outputs": [],
   "source": [
    "sap_2021_notes = mergeTitle(sap_2021)\n",
    "sap_2022_notes = mergeTitle(sap_2022)\n",
    "sap_2023_notes = mergeTitle(sap_2023)"
   ]
  },
  {
   "cell_type": "code",
   "execution_count": 8,
   "id": "8a79ce1d-e407-4205-accd-e9a35b286068",
   "metadata": {},
   "outputs": [],
   "source": [
    "#sap_2023_notes"
   ]
  },
  {
   "cell_type": "code",
   "execution_count": 9,
   "id": "27aa758e-839b-4373-aefb-0974bfc897a8",
   "metadata": {},
   "outputs": [],
   "source": [
    "# SAP Notes 2024\n",
    "#sap_2024_notes = pd.read_csv('sap_notes_2024.csv')"
   ]
  },
  {
   "cell_type": "code",
   "execution_count": 10,
   "id": "55fefcfb-13a1-411c-a400-cf9c7a2abe73",
   "metadata": {},
   "outputs": [],
   "source": [
    "sap_202401 = pd.read_html('https://support.sap.com/en/my-support/knowledge-base/security-notes-news/january-2024.html',\n",
    "                 flavor='html5lib')\n",
    "sap_202402 = pd.read_html('https://support.sap.com/en/my-support/knowledge-base/security-notes-news/february-2024.html',\n",
    "                 flavor='html5lib')\n",
    "sap_202403 = pd.read_html('https://support.sap.com/en/my-support/knowledge-base/security-notes-news/march-2024.html',\n",
    "                 flavor='html5lib')\n",
    "sap_202404 = pd.read_html('https://support.sap.com/en/my-support/knowledge-base/security-notes-news/april-2024.html',\n",
    "                 flavor='html5lib')\n",
    "sap_202405 = pd.read_html('https://support.sap.com/en/my-support/knowledge-base/security-notes-news/may-2024.html',\n",
    "                 flavor='html5lib')\n",
    "sap_202406 = pd.read_html('https://support.sap.com/en/my-support/knowledge-base/security-notes-news/june-2024.html',\n",
    "                 flavor='html5lib')\n",
    "sap_202407 = pd.read_html('https://support.sap.com/en/my-support/knowledge-base/security-notes-news/july-2024.html',\n",
    "                 flavor='html5lib')\n",
    "sap_202408 = pd.read_html('https://support.sap.com/en/my-support/knowledge-base/security-notes-news/august-2024.html',\n",
    "                 flavor='html5lib')\n",
    "sap_202409 = pd.read_html('https://support.sap.com/en/my-support/knowledge-base/security-notes-news/september-2024.html',\n",
    "                 flavor='html5lib')"
   ]
  },
  {
   "cell_type": "code",
   "execution_count": 11,
   "id": "a5607005-dea9-4370-ba0c-11662ea49320",
   "metadata": {},
   "outputs": [],
   "source": [
    "def etData1(x):\n",
    "    _df = pd.DataFrame(x[0], columns=['Note#', 'Title', 'Severity', 'CVSS'])\n",
    "    _df.rename(columns={'Severity': 'Priority'}, inplace=True)\n",
    "    _df[\"cve_id\"] = _df[\"Title\"].str.extract(r'(CVE-....-\\d+)')\n",
    "    return _df\n",
    "\n",
    "def etData2(x):\n",
    "    _df = pd.DataFrame(x[0], columns=['Note#', 'Title', 'Priority', 'CVSS'])\n",
    "    _df[\"cve_id\"] = _df[\"Title\"].str.extract(r'(CVE-....-\\d+)')\n",
    "    return _df"
   ]
  },
  {
   "cell_type": "code",
   "execution_count": 12,
   "id": "346559e7-65e2-42c2-b4ba-e339db8f3871",
   "metadata": {},
   "outputs": [],
   "source": [
    "sap_202401_df = etData1(sap_202401)\n",
    "sap_202402_df = etData1(sap_202402)\n",
    "sap_202403_df = etData1(sap_202403)\n",
    "sap_202404_df = etData1(sap_202404)\n",
    "sap_202405_df = etData1(sap_202405)\n",
    "sap_202406_df = etData1(sap_202406)\n",
    "sap_202407_df = etData2(sap_202407)\n",
    "sap_202408_df = etData2(sap_202408)\n",
    "sap_202409_df = etData2(sap_202409)"
   ]
  },
  {
   "cell_type": "code",
   "execution_count": 13,
   "id": "a63f9e26-1130-4f32-86d4-1768daf65467",
   "metadata": {},
   "outputs": [],
   "source": [
    "sap_2024_ls = [sap_202401_df,sap_202402_df,sap_202403_df,sap_202404_df,sap_202405_df,sap_202406_df,sap_202407_df,sap_202408_df,sap_202409_df]\n",
    "sap_2024_df = pd.concat(sap_2024_ls)"
   ]
  },
  {
   "cell_type": "code",
   "execution_count": 14,
   "id": "5e211b90-c0d8-4189-b33c-2038e8c2907d",
   "metadata": {},
   "outputs": [],
   "source": [
    "sap_2024_notes = sap_2024_df.dropna()\n",
    "#sap_2024_notes = pd.read_csv('sap_notes_2024.csv')"
   ]
  },
  {
   "cell_type": "code",
   "execution_count": 15,
   "id": "6994a3e6-e57c-4801-84db-d8e50938009a",
   "metadata": {},
   "outputs": [],
   "source": [
    "# start extract cve_ids string for terminal commands\n",
    "# Mejorar y crear un file para flag del commando.\n",
    "l_sap_cve = sap_2022_notes.cve_id.to_list()"
   ]
  },
  {
   "cell_type": "code",
   "execution_count": 16,
   "id": "dd67e9d0-4207-4200-a932-56a464d0fd31",
   "metadata": {},
   "outputs": [],
   "source": [
    "clean_sap_cve = [x for x in l_sap_cve if str(x) != 'nan']"
   ]
  },
  {
   "cell_type": "code",
   "execution_count": 17,
   "id": "9cf992b5-ec19-429d-a763-629227abbaf4",
   "metadata": {},
   "outputs": [],
   "source": [
    "#cleanedList"
   ]
  },
  {
   "cell_type": "code",
   "execution_count": null,
   "id": "2b7772a8-34e2-4e20-8a5a-2ffc7f7aca28",
   "metadata": {},
   "outputs": [],
   "source": [
    "string_list = [str(element) for element in clean_sap_cve]\n",
    "delimiter = \" \"\n",
    "result_string_cve = delimiter.join(string_list)"
   ]
  },
  {
   "cell_type": "code",
   "execution_count": null,
   "id": "6143e541-1c8d-494e-ba11-5fca4ecb2452",
   "metadata": {},
   "outputs": [],
   "source": [
    "result_string_cve"
   ]
  },
  {
   "cell_type": "code",
   "execution_count": null,
   "id": "d353f320-11f7-47d4-9097-0f4d159d0a2d",
   "metadata": {},
   "outputs": [],
   "source": [
    "# end extract cve_ids"
   ]
  },
  {
   "cell_type": "code",
   "execution_count": 18,
   "id": "0ee96f7c-64ef-461f-9189-1cb9fcb9e36b",
   "metadata": {},
   "outputs": [],
   "source": [
    "### Crear DataFrame de output Sploitscan\n",
    "def dataframeSplotscan(file_json):\n",
    "    data = pd.DataFrame(columns = ['cve_id', 'dateUpdated', 'descriptions', 'product_l', 'epss_l', 'percentile', 'priority_l', 'cweId'])\n",
    "    dict_list = []\n",
    "    sap_sp = pd.read_json(f'{file_json}', typ='series')\n",
    "    for i in sap_sp:\n",
    "        if 'problemTypes' in i['CVE Data']['containers']['cna'].keys():            \n",
    "            if 'cweId' in i['CVE Data']['containers']['cna']['problemTypes'][0]['descriptions'][0].keys():\n",
    "                cweId = i['CVE Data']['containers']['cna']['problemTypes'][0]['descriptions'][0]['cweId']\n",
    "            else:\n",
    "                cweId = i['CVE Data']['containers']['cna']['problemTypes'][0]['descriptions'][0]['description']\n",
    "        else:\n",
    "            cweId = None\n",
    "        if len(i['EPSS Data']['data']) == 1:\n",
    "            epss_l = i['EPSS Data']['data'][0]['epss']\n",
    "            percentile = i['EPSS Data']['data'][0]['percentile']\n",
    "        else:\n",
    "            epss_l = None\n",
    "            percentile = None\n",
    "        if 'datePublished' in i['CVE Data']['cveMetadata']:\n",
    "            datePublished = i['CVE Data']['cveMetadata']['datePublished']\n",
    "        else:\n",
    "            datePublished = None\n",
    "        if 'references' in i['CVE Data']['containers']['cna'].keys():            \n",
    "            note_id = re.findall('[2,3]{1}[0-9]{6}', str(i['CVE Data']['containers']['cna']['references'][0]['url']))\n",
    "        else:\n",
    "            note_id = None\n",
    "        row_list = {'cve_id': i['CVE Data']['cveMetadata']['cveId'],\n",
    "                    #'datePublished': i['CVE Data']['cveMetadata']['datePublished'],\n",
    "                    'datePublished': datePublished,\n",
    "                    'dateUpdated': i['CVE Data']['cveMetadata']['dateUpdated'],\n",
    "                    'descriptions': i['CVE Data']['containers']['cna']['descriptions'][0]['value'],\n",
    "                    'product_l': i['CVE Data']['containers']['cna']['affected'][0]['product'],\n",
    "                    #'epss_l': i['EPSS Data']['data'][0]['epss'],\n",
    "                    #'benchmark': i['VulnCheck Data']['_benchmark'],\n",
    "                    'epss_l': epss_l,\n",
    "                    'percentile': percentile,\n",
    "                    'priority_l': i['Priority']['Priority'],\n",
    "                    'cweId': cweId,\n",
    "                    'note_id': str(note_id)}\n",
    "        dict_list.append(row_list)\n",
    "\n",
    "    data = pd.DataFrame.from_dict(dict_list)\n",
    "    return(data)"
   ]
  },
  {
   "cell_type": "code",
   "execution_count": 19,
   "id": "d353eb05-3c15-4b34-a9ff-c03870745844",
   "metadata": {},
   "outputs": [],
   "source": [
    "#especial 2021 sap notes\n",
    "#sp_sap_cve_2021 = dataframeSplotscan('sap_history_data_curate/sp_2021_last.json')"
   ]
  },
  {
   "cell_type": "code",
   "execution_count": 20,
   "id": "ce8d1d81-4e0e-42c2-807f-179dff563d88",
   "metadata": {},
   "outputs": [],
   "source": [
    "sp_sap_cve_2021 = dataframeSplotscan('sap_history_data_curate/sp_2021_last.json')\n",
    "sp_sap_cve_2021.drop_duplicates(subset=['cve_id'], inplace=True)\n",
    "sp_sap_cve_2022 = dataframeSplotscan('sap_history_data_curate/sp_2022_last.json')\n",
    "sp_sap_cve_2022.drop_duplicates(subset=['cve_id'], inplace=True)\n",
    "sp_sap_cve_2023 = dataframeSplotscan('sap_history_data_curate/sp_2023_last.json')\n",
    "sp_sap_cve_2023.drop_duplicates(subset=['cve_id'], inplace=True)\n",
    "sp_sap_cve_2024 = dataframeSplotscan('sap_history_data_curate/sp_sap_2024.json')\n",
    "sp_sap_cve_2024.drop_duplicates(subset=['cve_id'], inplace=True)"
   ]
  },
  {
   "cell_type": "code",
   "execution_count": 21,
   "id": "d0114ae5-17c4-4055-ad41-fae482328b23",
   "metadata": {},
   "outputs": [],
   "source": [
    "cp_sap_cve_2021 = pd.read_csv('sap_history_data_curate/sap_2021_clean.csv')\n",
    "cp_sap_cve_2022 = pd.read_csv('sap_history_data_curate/sap_2022_clean.csv')\n",
    "cp_sap_cve_2023 = pd.read_csv('sap_history_data_curate/sap_2023_clean.csv')\n",
    "cp_sap_cve_2024 = pd.read_csv('sap_history_data_curate/cveprio_sap_2024.csv')"
   ]
  },
  {
   "cell_type": "code",
   "execution_count": 22,
   "id": "dc9537c3-ecf3-43de-a34c-c8e88e42fe28",
   "metadata": {},
   "outputs": [],
   "source": [
    "cp_sap_cve_2021.drop_duplicates(subset=['cve_id'], inplace=True)\n",
    "cp_sap_cve_2022.drop_duplicates(subset=['cve_id'], inplace=True)\n",
    "cp_sap_cve_2023.drop_duplicates(subset=['cve_id'], inplace=True)\n",
    "cp_sap_cve_2024.drop_duplicates(subset=['cve_id'], inplace=True)"
   ]
  },
  {
   "cell_type": "code",
   "execution_count": 23,
   "id": "8148fa20-4dbf-4b1b-ba72-e032b972674e",
   "metadata": {},
   "outputs": [],
   "source": [
    "sap_cve_2023 = sap_2023_notes.merge(sp_sap_cve_2023, on=['cve_id'])\n",
    "sap_cve_2023 = sap_cve_2023.merge(cp_sap_cve_2023, on=['cve_id'])\n",
    "sap_cve_2023['sap_note_year'] = '2023'"
   ]
  },
  {
   "cell_type": "code",
   "execution_count": 24,
   "id": "016a79b9-c77c-43b9-ba57-36af5e204565",
   "metadata": {},
   "outputs": [],
   "source": [
    "sap_cve_2022 = sp_sap_cve_2022.merge(sap_2022_notes, on=['cve_id'])\n",
    "sap_cve_2022 = sap_cve_2022.merge(cp_sap_cve_2022, on=['cve_id'])\n",
    "sap_cve_2022['sap_note_year'] = '2022'"
   ]
  },
  {
   "cell_type": "code",
   "execution_count": 25,
   "id": "d1fd930e-509c-4132-9280-5fc30e3902e0",
   "metadata": {},
   "outputs": [],
   "source": [
    "sap_cve_2021 = sp_sap_cve_2021.merge(sap_2021_notes, on=['cve_id'])\n",
    "sap_cve_2021 = sap_cve_2021.merge(cp_sap_cve_2021, on=['cve_id'])\n",
    "sap_cve_2021['sap_note_year'] = '2021'"
   ]
  },
  {
   "cell_type": "code",
   "execution_count": 26,
   "id": "e50353fe-a629-4d45-a300-4fa0d4001010",
   "metadata": {},
   "outputs": [],
   "source": [
    "sap_cve_2024 = sp_sap_cve_2024.merge(sap_2024_notes, on=['cve_id'])\n",
    "sap_cve_2024 = sap_cve_2024.merge(cp_sap_cve_2024, on=['cve_id'])\n",
    "sap_cve_2024['sap_note_year'] = '2024'"
   ]
  },
  {
   "cell_type": "code",
   "execution_count": 27,
   "id": "c9aadaf3-dec1-4c4d-bef8-c056c4bedb9f",
   "metadata": {},
   "outputs": [],
   "source": [
    "#sap_2024_notes.info()"
   ]
  },
  {
   "cell_type": "code",
   "execution_count": 28,
   "id": "baf5411a-8a6e-4c86-b982-b8e8ff9f0fe9",
   "metadata": {},
   "outputs": [],
   "source": [
    "#sap_cve_2024.info()"
   ]
  },
  {
   "cell_type": "code",
   "execution_count": 29,
   "id": "61cdcaf1-5ba1-41cc-bce6-490678c26ae9",
   "metadata": {},
   "outputs": [],
   "source": [
    "#sap_cve_2024"
   ]
  },
  {
   "cell_type": "code",
   "execution_count": 60,
   "id": "7169146c-6b85-46d0-ab1c-cd0d54c9d6bb",
   "metadata": {},
   "outputs": [],
   "source": [
    "sap_cve_df = pd.concat([sap_cve_2021,sap_cve_2022,sap_cve_2023,sap_cve_2024])"
   ]
  },
  {
   "cell_type": "code",
   "execution_count": 61,
   "id": "959dbcca-2cbb-4f2b-8ed6-756c435de926",
   "metadata": {},
   "outputs": [],
   "source": [
    "#sap_cve_df['epss'] = sap_cve_df['epss'].map(lambda x: x * 100).astype('float').round(2)"
   ]
  },
  {
   "cell_type": "code",
   "execution_count": 62,
   "id": "a18bb720-5978-4c63-9744-21a416ee2312",
   "metadata": {},
   "outputs": [],
   "source": [
    "#sap_cve_df['cveInfo'] = sap_cve_df['cve_id'].apply(lambda x: x.replace(f'{x}', f'https://www.cvedetails.com/cve/{x}/'))"
   ]
  },
  {
   "cell_type": "code",
   "execution_count": 63,
   "id": "958503ea-f6bd-4e03-8dbc-28572471e117",
   "metadata": {},
   "outputs": [],
   "source": [
    "#sap_cve_df.drop_duplicates(subset=['Note#'], inplace=True)"
   ]
  },
  {
   "cell_type": "code",
   "execution_count": 64,
   "id": "3b47c719-ebd6-4d47-85f8-c12f60cde8c6",
   "metadata": {},
   "outputs": [],
   "source": [
    "sap_cve_df.loc[(sap_cve_df['Priority'] == 'Hot') | (sap_cve_df['Priority'] == 'HotNews') | (sap_cve_df['Priority'] == 'Very High'), 'Priority'] = 'Hot News'\n",
    "#sap_cve_df.loc[(sap_cve_df['Priority'] == 'Hot') | (sap_cve_df['Priority'] == 'HotNews'), 'Priority'] = 'Hot News'"
   ]
  },
  {
   "cell_type": "code",
   "execution_count": 65,
   "id": "cae61325-4c92-4a36-9ef0-2a8a5d277f39",
   "metadata": {},
   "outputs": [],
   "source": [
    "sap_cve_df.loc[(sap_cve_df['cweId'] == 'Cross-Site Scripting') | (sap_cve_df['cweId'] == 'Cross Site Scripting') | (sap_cve_df['cweId'] == \"Cross-Site Scripting (XSS)\"), 'cweId'] = \"CWE-79\""
   ]
  },
  {
   "cell_type": "code",
   "execution_count": 66,
   "id": "c2c777e4-7e94-4a4d-94c7-f461c256e467",
   "metadata": {},
   "outputs": [
    {
     "data": {
      "text/plain": [
       "array(['Denial of Service', 'Missing Authorization Check',\n",
       "       'Information Disclosure', 'Header Manipulation', 'CWE-79',\n",
       "       'Missing Encryption', 'Improper Input Validation',\n",
       "       'XML External Entity Reference (XXE)', 'Remote Code Execution',\n",
       "       'SQL Injection', 'Missing Authorization',\n",
       "       'Weak Password Requirements', 'Clickjacking', 'Tabnabbing',\n",
       "       'Other', 'Improper Authentication', 'Directory Traversal',\n",
       "       'Missing Authentication Check', 'Code Execution',\n",
       "       'Authentication Bypass', 'Missing Authorization check',\n",
       "       'Insecure Deserialization', 'Server-Side Request Forgery',\n",
       "       'Reverse Tabnabbing', 'Code Injection', 'Information disclosure',\n",
       "       'Unquoted Search Path or Element (CWE - 428)', 'CWE-284',\n",
       "       'CWE-611', 'CWE-290', 'Missing XML Validation',\n",
       "       'URL Redirection to Untrusted Site',\n",
       "       'Missing XML Validation (CWE - 112)', 'CWE-125', 'CWE-476',\n",
       "       'CWE-787',\n",
       "       \"Improper Neutralization of Special Elements in Output Used by a Downstream Component ('Injection')\",\n",
       "       'Missing Authority Check', 'CWE-95', 'CWE-444', 'CWE-778',\n",
       "       'CWE-434', 'Server-Side Request Forgery (SSRF)', 'CWE-89',\n",
       "       'CWE-918', 'Task Hijacking', 'CWE-288', 'CWE-297', 'CWE-862',\n",
       "       'CWE-601', 'CWE-1022', 'Improper Input Sanitization',\n",
       "       'Unrestricted File Upload', 'OS Command Injection',\n",
       "       'Null Pointer Dereference', 'Directory/Path Traversal', 'CWE-22',\n",
       "       'n/a', 'Improper Authorization', 'CWE-1236', 'CWE-668',\n",
       "       'Hard Coded Credentials', 'CWE-522', 'CWE-863', 'CWE-400',\n",
       "       'Code injection', 'Path Traversal', 'CWE-835',\n",
       "       'Improper input validation', 'CWE-200', 'URL Redirection',\n",
       "       'CWE-352', 'CWE-502', 'CWE-20', 'CWE-269', 'CWE-94', 'CWE-121',\n",
       "       'CWE-119', 'CWE-338', 'CWE-326', 'CWE-428', 'CWE-312', 'CWE-311',\n",
       "       'CWE-287', 'CWE-755', 'CWE-319', 'CWE-306', 'CWE-74', 'CWE-345',\n",
       "       'CWE-213', 'CWE-416', 'CWE-367', 'CWE-112', 'CWE-674', 'CWE-917',\n",
       "       'CWE:862', 'CWE-129', 'CW-653', 'CWE-427', 'CWE-77',\n",
       "       'Denial of Service (DoS)', 'CWE-497', 'CWE-307', 'CWE-117',\n",
       "       'CWE-209', 'CWE-1386', 'CWE-770', 'CWE-639', 'CWE-78', 'CWE-1390',\n",
       "       'CWE-285', 'CWE-732', 'CWE-644', 'CWE-120', 'CWE-23', 'CWE-923',\n",
       "       'Velocity Sandbox Bypass', 'CWE-80', 'CWE-267', 'CWE-294',\n",
       "       'CWE-295', 'CWE-640', 'CWE-35', None, 'CWE-693', 'CWE-91',\n",
       "       'use-after-free', 'CWE-256', 'CWE-426', 'CWE-359'], dtype=object)"
      ]
     },
     "execution_count": 66,
     "metadata": {},
     "output_type": "execute_result"
    }
   ],
   "source": [
    "sap_cve_df['cweId'].unique()"
   ]
  },
  {
   "cell_type": "code",
   "execution_count": 67,
   "id": "8b3b85ee-33d2-4a8b-a40c-423e860f04cb",
   "metadata": {},
   "outputs": [],
   "source": [
    "sap_cve_df.to_csv('sap_cve_last_02.csv', index=False)"
   ]
  },
  {
   "cell_type": "code",
   "execution_count": 68,
   "id": "2bb7b8a9-e879-459d-9622-dfbd423d577d",
   "metadata": {},
   "outputs": [
    {
     "data": {
      "text/html": [
       "<div>\n",
       "<style scoped>\n",
       "    .dataframe tbody tr th:only-of-type {\n",
       "        vertical-align: middle;\n",
       "    }\n",
       "\n",
       "    .dataframe tbody tr th {\n",
       "        vertical-align: top;\n",
       "    }\n",
       "\n",
       "    .dataframe thead th {\n",
       "        text-align: right;\n",
       "    }\n",
       "</style>\n",
       "<table border=\"1\" class=\"dataframe\">\n",
       "  <thead>\n",
       "    <tr style=\"text-align: right;\">\n",
       "      <th></th>\n",
       "      <th>epss</th>\n",
       "      <th>Note#</th>\n",
       "      <th>cweId</th>\n",
       "    </tr>\n",
       "  </thead>\n",
       "  <tbody>\n",
       "    <tr>\n",
       "      <th>0</th>\n",
       "      <td>0.00124</td>\n",
       "      <td>3000306</td>\n",
       "      <td>Denial of Service</td>\n",
       "    </tr>\n",
       "    <tr>\n",
       "      <th>1</th>\n",
       "      <td>0.00124</td>\n",
       "      <td>3000306</td>\n",
       "      <td>Denial of Service</td>\n",
       "    </tr>\n",
       "    <tr>\n",
       "      <th>2</th>\n",
       "      <td>0.00054</td>\n",
       "      <td>2863397</td>\n",
       "      <td>Missing Authorization Check</td>\n",
       "    </tr>\n",
       "    <tr>\n",
       "      <th>3</th>\n",
       "      <td>0.00065</td>\n",
       "      <td>2826528</td>\n",
       "      <td>Information Disclosure</td>\n",
       "    </tr>\n",
       "    <tr>\n",
       "      <th>4</th>\n",
       "      <td>0.00054</td>\n",
       "      <td>2984034</td>\n",
       "      <td>Header Manipulation</td>\n",
       "    </tr>\n",
       "    <tr>\n",
       "      <th>...</th>\n",
       "      <td>...</td>\n",
       "      <td>...</td>\n",
       "      <td>...</td>\n",
       "    </tr>\n",
       "    <tr>\n",
       "      <th>119</th>\n",
       "      <td>0.00043</td>\n",
       "      <td>3437585</td>\n",
       "      <td>CWE-213</td>\n",
       "    </tr>\n",
       "    <tr>\n",
       "      <th>120</th>\n",
       "      <td>0.00045</td>\n",
       "      <td>3505293</td>\n",
       "      <td>CWE-862</td>\n",
       "    </tr>\n",
       "    <tr>\n",
       "      <th>121</th>\n",
       "      <td>0.00043</td>\n",
       "      <td>2256627</td>\n",
       "      <td>CWE-862</td>\n",
       "    </tr>\n",
       "    <tr>\n",
       "      <th>122</th>\n",
       "      <td>0.00045</td>\n",
       "      <td>3496410</td>\n",
       "      <td>CWE-862</td>\n",
       "    </tr>\n",
       "    <tr>\n",
       "      <th>123</th>\n",
       "      <td>0.00045</td>\n",
       "      <td>3507252</td>\n",
       "      <td>CWE-863</td>\n",
       "    </tr>\n",
       "  </tbody>\n",
       "</table>\n",
       "<p>641 rows × 3 columns</p>\n",
       "</div>"
      ],
      "text/plain": [
       "        epss    Note#                        cweId\n",
       "0    0.00124  3000306            Denial of Service\n",
       "1    0.00124  3000306            Denial of Service\n",
       "2    0.00054  2863397  Missing Authorization Check\n",
       "3    0.00065  2826528       Information Disclosure\n",
       "4    0.00054  2984034          Header Manipulation\n",
       "..       ...      ...                          ...\n",
       "119  0.00043  3437585                      CWE-213\n",
       "120  0.00045  3505293                      CWE-862\n",
       "121  0.00043  2256627                      CWE-862\n",
       "122  0.00045  3496410                      CWE-862\n",
       "123  0.00045  3507252                      CWE-863\n",
       "\n",
       "[641 rows x 3 columns]"
      ]
     },
     "execution_count": 68,
     "metadata": {},
     "output_type": "execute_result"
    }
   ],
   "source": [
    "sap_cve_df[['epss', 'Note#', 'cweId']]"
   ]
  },
  {
   "cell_type": "code",
   "execution_count": null,
   "id": "166c6b8b-e115-4d51-97e9-0003a76bd957",
   "metadata": {},
   "outputs": [],
   "source": [
    " "
   ]
  }
 ],
 "metadata": {
  "kernelspec": {
   "display_name": "Python 3 (ipykernel)",
   "language": "python",
   "name": "python3"
  },
  "language_info": {
   "codemirror_mode": {
    "name": "ipython",
    "version": 3
   },
   "file_extension": ".py",
   "mimetype": "text/x-python",
   "name": "python",
   "nbconvert_exporter": "python",
   "pygments_lexer": "ipython3",
   "version": "3.11.2"
  }
 },
 "nbformat": 4,
 "nbformat_minor": 5
}
